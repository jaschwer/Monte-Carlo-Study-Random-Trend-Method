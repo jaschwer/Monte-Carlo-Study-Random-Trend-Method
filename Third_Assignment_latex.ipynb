{
 "cells": [
  {
   "cell_type": "markdown",
   "metadata": {
    "collapsed": false
   },
   "source": [
    "<center> <h1> Third Assignment: Numerical Simulation </h1></center>\n",
    "\n",
    "<center> <h2><span style=\"font-family:Courier New; \"> Random Trend Model Estimation for Panel Data </span></h2></center>\n",
    "\n",
    "\n",
    "<center> <h3><span style=\"color:blue; font-family:Courier New; \"> Carlos Gonzales (536572) </span></h3></center>\n",
    "\n",
    "<center> <h3><span style=\"color:blue; font-family:Courier New; \"> Daniel Dimitrov (275140) </span></h3></center>\n",
    "\n",
    "<center> <h3><span style=\"color:blue; font-family:Courier New; \"> Jakob Schwerter (110583) </span></h3></center>"
   ]
  },
  {
   "cell_type": "markdown",
   "metadata": {},
   "source": [
    "--------------------"
   ]
  },
  {
   "cell_type": "markdown",
   "metadata": {},
   "source": [
    "<center><h2><span style=\"font-family:Courier New; \"> Abstract </span></h2></center>\n",
    "\n",
    "<div style=\"text-align: justify\"><span style=\"font-family:Courier New;\">In this study we look at some foundational <a href='#EQ1'>panel data</a> models. Using different software packages we perform numerical simulation based on a range of <a href='#DGP'>data generating processes</a>. Our initial interest is first of all to find an unbiased estimator when we know that a linear trend has introduced bias in the classical panel estimation methods. We evaluate the consistency and effectiveness of several alternatives in estimating a <a href='#RT'>random-trend</a> model. We compare two main competing approaches for eliminating the trend: (i) <a href='#EQ4'>first-differencing the data twice</a> and (ii) <a href='#EQ5'>within transformation after first differencing once</a>. We evaluate the <a href='#ConclusionModels'>robustness</a> of the two and find that the mixed approach (ii) may be preferable as long as the researcher can accept certain limitations. Also, we use this study to compare the <a href='#ConclusionStataPython'>effectiveness</a> of  _Stata_ (a standard package for econometric work) against open source python libraries such as  <i>numpy and pandas</i>. We conclude that open source libraries are not yet rich enough to provide all options that a specialized econometrics software offers, but we assume <i>python</i> to have a steep learning curve here in the near future. However, extensions such as <a href=https://github.com/TiesdeKok/ipystata><i>ipystata</i></a> could offer researchers a nice segue towards this very powerful language. To  illustrate some <a href='#graphs'>visually appealing</a> conclusions from our data we also use <i>plotly</i>. </span></div>\n",
    "\n",
    "--------------------------"
   ]
  },
  {
   "cell_type": "markdown",
   "metadata": {},
   "source": [
    "<center><h2><span style=\"font-family:Courier New; \"> Contents </span></h2></center>\n",
    "<h3><span style=\"font-family:Courier New; \">1. <a href='#Motivation'>Motivation</a></span></h3>\n",
    "<h3><span style=\"font-family:Courier New; \"> 2. <a href='#SimStata'>Simulation and Estimation with Stata</a></span></h3>\n",
    "<h4><span style=\"font-family:Courier New; \">        2.1. <a href='#SimStata'>Preparing ipystata</span></a></h4>\n",
    "<h4><span style=\"font-family:Courier New; \">        2.2. <a href='#DGP'>Overview of the DGP</span></a></h4>\n",
    "<h4><span style=\"font-family:Courier New; \">        2.2. <a href='#SimNoTrend'>Simulation without Random Trend in the true DGP]</a></span></h4>\n",
    "<h4><span style=\"font-family:Courier New; \">        2.3. <a href='#MCNoTrend'>Monte Carlo study without trend in the DGP]</a></span></h4>\n",
    "<h4><span style=\"font-family:Courier New; \">        2.4. <a href='#MCConstTrend'>Monte Carlo study with the same trend for all individuals</a></span></h4>\n",
    "<h4><span style=\"font-family:Courier New; \">        2.5. <a href='#MCIndivTrend'>Monte Carlo study with individual specific linear trends (Random Trend)</a></span></h4>\n",
    "<h4><span style=\"font-family:Courier New; \">        2.6. <a href='#MCNonLinTrend'>Monte Carlo study with nonlinear individual specific trends</a></span></h4>\n",
    "<h3><span style=\"font-family:Courier New; \"> 3. <a href='#MCPythonRT'>Random Trend Simulation using Python</a></span></h3>\n",
    "<h4><span style=\"font-family:Courier New; \">        3.1. <a href='#MCPythonDGP'>DGP</a></span></h4>\n",
    "<h4><span style=\"font-family:Courier New; \">        3.2. <a href='#MCPythonDataTr'>Data Transformation</a></span></h4>\n",
    "<h4><span style=\"font-family:Courier New; \">        3.3. <a href='#MCPythonReg'>Regression</a></span></h4>\n",
    "<h4><span style=\"font-family:Courier New; \">        3.4. <a href='#MCPython'>Monte Carlo Study</a></span></h4>\n",
    "<h4><span style=\"font-family:Courier New; \">        3.5. <a href='#graphs'>Graphical Comparison of the Estimation Methods</a></span></h4>\n",
    "<h3><span style=\"font-family:Courier New; \"> 4. <a href='#Conclusion'>Conclusion</a></span></h3>\n",
    "<h4><span style=\"font-family:Courier New; \">        4.1. <a href='#ConclusionModels'>Comparison between models</a></span></h4>\n",
    "<h4><span style=\"font-family:Courier New; \">        4.2. <a href='#ConclusionStataPython'>Comparison between Stata and Python</a></span></h4>"
   ]
  },
  {
   "cell_type": "markdown",
   "metadata": {
    "collapsed": true
   },
   "source": [
    "-----------------\n",
    "<a id='Motivation'></a>"
   ]
  },
  {
   "cell_type": "markdown",
   "metadata": {
    "collapsed": false
   },
   "source": [
    "# 1. Motivation\n",
    "\n",
    "We construct a simulation for a random-trend (RT) model as defined by [Wooldrige 2010](https://mitpress.mit.edu/books/econometric-analysis-cross-section-and-panel-data),  section 11.7.1. The model is an extension of the [first-difference (FD) model](https://en.wikipedia.org/wiki/First-difference_estimator) for panel-data and overcomes some of its deficiencies. Our main interest is to find an unbiased estimator after a linear random-trend has already introduced some bias in the classical panel estimation methods.\n",
    "\n",
    "## 1.1. Basic Panel Data Model\n",
    "\n",
    "The basic model to estimate a dependent variable follows a linear panel data specification. The specific model is as follows:\n",
    "\n",
    "<a id='EQ1'></a>\n",
    "$$y_{it} = \\beta \\cdot x_{it} + u_{it} \\quad (1) $$\n",
    "\n",
    "As we are working with a panel, the index $i$ stands for an individual (person, company, country, etc.), while the index $t$ represents time. The dependent and the independent variables are respectively indicated by $y_{it}$ and $x_{it}$ and vary both over the individuals and over the time dimension. The error term is represented by $u_{it}$. This can be decomposed into three terms:\n",
    "\n",
    "$$u_{it} = \\alpha_i + e_{it}$$\n",
    "\n",
    "In this context $\\alpha_i$ is an unobserved individual specific effect that stays constant for each individual and $e_{it}$ is an idiosyncratic error that changes both over time and over individuals. In practice we are mostly interested in estimating the effect of $x$ on $y$ and so we are looking for an unbiased and consistent estimation of $\\beta$. \n",
    "\n",
    "Given that both $x$ and $y$ are correlated with the first two parts of the error term, using just normal OLS without any data-transformation (pooled regression) will give biased results due to an [endogeneity bias](https://en.wikipedia.org/wiki/Endogeneity_%28econometrics%29).\n",
    "\n",
    "Two methods can be used to deal with the endogeneity problem induced by the constant error term: The [fixed-effects](https://en.wikipedia.org/wiki/Fixed_effects_model) (FE) and the first-differences (FD) method.\n",
    "\n",
    "The fixed-effects (FE) method can handle situations using the so-called within transformation, subtracting the mean from each variable corresponding to each individual. This eliminates the individual-specific effect which is constant over time (here: $\\alpha_i$) and allows for a consistent [OLS estimation](https://en.wikipedia.org/wiki/Ordinary_least_squares): \n",
    "\n",
    "<a id='EQ2'></a>\n",
    "$$y_{it} - \\bar{y}_{i} = \\beta \\cdot (x_{it} - \\bar{x}_{i}) + \\alpha_i - \\alpha_i + e_{it} - \\bar{e}_{i} \\quad (2)$$ \n",
    "\n",
    "with $\\bar{y}_{i} = \\sum_{t=1}^T y_{it}$, $\\bar{x}_{i} = \\sum_{t=1}^T x_{it}$ and $\\bar{e}_{i} = \\sum_{t=1}^T e_{it}$\n",
    "\n",
    "The first-differences manages to control for the bias by subtracting the past observation from the current one:\n",
    "\n",
    "<a id='EQ3'></a>\n",
    "$$y_{it} - y_{it-1} = \\beta \\cdot ( x_{it} - x_{it-1}) + \\alpha_i - \\alpha_{i} + (e_{it} - e_{it-1}) \\quad (3) $$\n",
    "\n",
    "One can clearly see that in both methods the $\\alpha_i$ cancels out of the regression, solving a possible correlation between $\\alpha_i$ with $y_{it} $ and $x_{it}$. Still, a crucial requirement for retrieving reliable estimates is that the independent variable and the idiosyncratic term remain uncorrelated in expectations.     \n",
    "\n",
    "Things get complicated however, when besides the unobserved constant ($\\alpha_i$), the variable of interest $x_{it}$ is correlated also with a linear trend ($g_i \\cdot t$). Keeping the variable names as before, the error term can now be decomposed as:\n",
    "\n",
    "<a id='RT'></a>\n",
    "$$u_{it} = \\alpha_i + g_i \\cdot t + e_{it} $$\n",
    "\n",
    "Now, $g_i$ is a linear trend which is specific for each individual. Note that if $y_{it}$ is a logarithm of the original variable, $g_i$ can also be interpreted as roughly the average growth rate over a period. In that case, the equation is usually referred to a random-growth model, otherwise simply as a random-trend. Overall, this presents an additional source of heterogeneity and needs to be dealt with before employing an OLS estimation.      \n",
    "\n",
    "To solve the possible bias problem due to the RT component, the literature states that in the first step we have to calculate the first-differences in order to transform the linear trend into a constant. To illustrate this more formally, taking the first-difference in the RT set-up gives\n",
    "\n",
    "$$y_{it} - y_{it-1} = \\beta \\cdot (x_{it} - x_{it-1}) + \\alpha_i - \\alpha_{i} +   g_i \\cdot t - g_{i} \\cdot (t-1) + (e_{it} - e_{it-1})$$\n",
    "\n",
    "$$ \\iff \\Delta y_{it} = \\beta \\cdot \\Delta x_{it} + g_i + \\Delta  e_{it}$$\n",
    "\n",
    "Thereafter, it is up to the researcher to continue with either the within-transformation or to first-difference again. Note that even though both are fixed-effect methods, we will be consistent with the literature to call the within-transformation the fixed-effect method. We will investigate if one of the approaches is superior to the other in means of the estimation bias of the coefficient. It would be further of interest to investigate the standard errors and model selection criteria like $R^2$, AIC and BIC, but this will be left out for the future research.\n",
    "\n",
    "As we saw, the linear trend has been reduced to a constant term which can now be canceled out by a second first-difference or a with-transformation. So, we have two possibilities for estimation given the RT model: \n",
    "- The **FD Method**: Taking two times the first-difference, will be named _pure_ in the tables later on\n",
    "- The **FD-FE Method**: First the first-difference, then the fixed-effect, named _mix_.\n",
    "\n",
    "First-differencing leads to the FD Method:\n",
    "\n",
    "<a id='EQ4'></a>\n",
    "$$\\Delta^2 y_{it} = \\beta \\cdot \\Delta^2 x_{it} + \\Delta^2 e_{it} \\quad (4) $$ where $\\Delta^2$ stands for the taking two first-differences. \n",
    "\n",
    "The alternative is to do a FE transformation for each variable by subtracting from it the mean corresponding to each individual. This leads to the FD-FE method:\n",
    "\n",
    "<a id='EQ5'></a>\n",
    "$$\\Delta y'_{it} = \\beta \\cdot \\Delta x'_{it} + \\Delta e'_{it} \\quad (5) $$\n",
    "\n",
    "where ' denotes that the variables are demeaned.\n",
    "\n",
    "One can clearly see that in (4) and (5) we canceled out both terms $\\alpha_i$ and $g_i \\cdot t$. Thereby $\\beta$ will not be biased even though the data initially included two different sorts of bias.\n",
    "\n",
    "On the other hand, if we had failed to take first differences in the first place, taking first the fixed-effects as in equation (3) would have given us the following:\n",
    "\n",
    "$$y_{it} - \\bar{y}_{i} = \\beta \\cdot ( x_{it} - \\bar{x}_{i}) + \\alpha_i - \\alpha_{i} +   g_i \\cdot (t - \\bar{t}) + (e_{it} - \\bar{e}_{i})$$\n",
    "\n",
    "Using a second transformation we will not be able to cancel out the time trend effect (we will confirm this in the simulation [at some point](#MCNonFEFD)). We thereby see that it is crucial to first take the first-difference and not the within-transformation.\n",
    "\n",
    "Given that our group is new to python but experienced in Stata, we will first do the simulation via Stata by using the package [`ipystata`](https://github.com/TiesdeKok/ipystata). Thereby we have a known language which we can refer to as our benchmark. In a second step we will use only open software packages to replicate the results. Thereby we will comment which python code is comparable to which Stata code. Besides having the results obtained using Stata as a benchmark, we start a nice _translater_ from Stata to Python. We will also comment on the speed of both languages as well as advantages and disadvantages of the coding part.\n",
    "\n",
    "The assignment will continue as follows: (i) First we explain step by step our [Data Generating Process (DGP)](#DGP). (ii) Then we run a [simulation without a random trend](#SimNoTrend) to see if everything works fine. As a single simulation is not enough to produce definitive answers, from here on we perform a Monte Carlo study with numerous simulation draws. First we do that with the basic DGP model [without a trend](#MCNoTrend) (iii) Next we run the same simulation using a [constant linear trend](#MCConstTrend) and (iv) an [individual specific trend](#MCIndivTrend) in the data generating process. To see how robust the random-trend estimates are, we will further run two simulations using two [non-linear trends](#MCNonLinTrend). Finally that we will reproduce the results of the individual trend using [open-source python packages](#MCPythonRT) only, such as _numpy_, _pandas_ and _random_.\n",
    "\n",
    "## 1.2. Setting up Python packages  for this study\n"
   ]
  },
  {
   "cell_type": "markdown",
   "metadata": {},
   "source": [
    "   > First we import the computational packages that will be used for this study. Note that _ipystata_, even though an open source package itself, relies on [Stata libraries](http://www.stata.com/) and as a result requires a Stata license and installation on your computer.  \n",
    "   \n",
    "   > After that we install and activate a spell checker in order to keep typos under control. We use [_ICalico_](http://calicoproject.org/ICalico) for the purpose.  "
   ]
  },
  {
   "cell_type": "code",
   "execution_count": 1,
   "metadata": {
    "collapsed": false
   },
   "outputs": [
    {
     "name": "stdout",
     "output_type": "stream",
     "text": [
      "IPyStata is loaded in batch mode.\n"
     ]
    },
    {
     "data": {
      "application/javascript": [
       "IPython.CodeCell.config_defaults.highlight_modes['magic_stata'] = {'reg':[/^%%stata/]};"
      ]
     },
     "metadata": {},
     "output_type": "display_data"
    }
   ],
   "source": [
    "import ipystata # https://github.com/TiesdeKok/ipystata - We kind of helped so that ipystata works on mac as well :)\n",
    "import pandas as pd\n",
    "import random\n",
    "\n",
    "\n",
    "#from plotly import __version__\n",
    "#from plotly.offline import download_plotlyjs, init_notebook_mode, iplot\n",
    "\n",
    "#print __version__ # requires version >= 1.9.0\n",
    "\n",
    "#import plotly\n",
    "#plotly.offline.init_notebook_mode()\n",
    "\n",
    "#from plotly.offline import plot\n",
    "#from plotly.graph_objs import Scatter\n",
    "#from plotly.graph_objs import *\n",
    "import numpy as np\n",
    "#import plotly.plotly as py\n",
    "#import plotly.graph_objs as go\n",
    "#import cufflinks as cf\n",
    "#init_notebook_mode()\n",
    "#import plotly.tools as tls\n",
    "\n",
    "\n",
    "\n",
    "\n",
    "#tls.set_credentials_file(username=\"jaschwer\", api_key=\"aixfdrxn9e\")\n",
    "#tls.set_credentials_file(username=\"DanielKDimitrov\", api_key=\"21xohc8xmw\")\n",
    "#py.sign_in('chalogonzalez12','q6mqfcy6yp')\n",
    "\n",
    "# Those packages where not used in the end, but we keep it to find them easier for later projects\n",
    "#from scipy import stats\n",
    "#import statsmodels.api as sm\n",
    "#from statsmodels.sandbox.regression.predstd import wls_prediction_std\n",
    "\n",
    "# Different plot-package\n",
    "#import matplotlib.pyplot as plt\n",
    "#%matplotlib inline\n",
    "\n",
    "\n",
    "# pip install ipystata --upgrade --force-reinstall\n",
    "# Check if a new version is online before running the code.\n",
    "# Might be useful and does not take much time"
   ]
  },
  {
   "cell_type": "code",
   "execution_count": 2,
   "metadata": {
    "collapsed": false,
    "scrolled": true
   },
   "outputs": [
    {
     "name": "stdout",
     "output_type": "stream",
     "text": [
      "jupyter: 'install-nbextension' is not a Jupyter command\r\n"
     ]
    }
   ],
   "source": [
    "#install spellchecker\n",
    "!jupyter install-nbextension https://bitbucket.org/ipre/calico/downloads/calico-spell-check-1.0.zip\n",
    "#after you install it, activate it executing the next step.     \n",
    "#this video provides a demo of how it works after you install it: https://www.youtube.com/watch?v=Km3AtRynWFQ"
   ]
  },
  {
   "cell_type": "code",
   "execution_count": 3,
   "metadata": {
    "collapsed": false
   },
   "outputs": [
    {
     "data": {
      "application/javascript": [
       "require(['base/js/utils'],\n",
       "function(utils) {\n",
       "   utils.load_extensions('calico-spell-check');\n",
       "});"
      ],
      "text/plain": [
       "<IPython.core.display.Javascript object>"
      ]
     },
     "metadata": {},
     "output_type": "display_data"
    }
   ],
   "source": [
    "%%javascript\n",
    "require(['base/js/utils'],\n",
    "function(utils) {\n",
    "   utils.load_extensions('calico-spell-check');\n",
    "});"
   ]
  },
  {
   "cell_type": "markdown",
   "metadata": {},
   "source": [
    "-------------------\n",
    "<a id='SimStata'></a>"
   ]
  },
  {
   "cell_type": "markdown",
   "metadata": {
    "collapsed": false
   },
   "source": [
    "# 2. Simulation and Estimation with Stata\n",
    "\n",
    "## 2.1. Preparing ipystata\n",
    "Before we proceed with setting up our DGP we will first make sure that _ipystata_ has been successfully installed and is working well within the python environment. The first two cells are to call _Stata_ and to see if it actually works within the Python environment. In the third cell you have to provide a path to a folder on your computer so that the system can use it to store data from the simulations. "
   ]
  },
  {
   "cell_type": "code",
   "execution_count": 4,
   "metadata": {
    "collapsed": false
   },
   "outputs": [],
   "source": [
    "from ipystata.config import config_stata\n",
    "config_stata('/Applications/Stata/StataSE.app/Contents/MacOS/StataSE') \n",
    "\n",
    "# Windows  --> 'C:\\Program Files (x86)\\Stata14\\StataSE-64.exe'\n",
    "# Mac OS X --> '/Applications/Stata/StataSE.app/Contents/MacOS/stataSE'\n",
    "# Linux    --> '/home/user/stata14/stata-se'"
   ]
  },
  {
   "cell_type": "code",
   "execution_count": 5,
   "metadata": {
    "collapsed": false
   },
   "outputs": [
    {
     "name": "stdout",
     "output_type": "stream",
     "text": [
      "\n",
      "Hello, I am printed by Stata\n",
      "We welcome you to our assignment and we hope you enjoy it\n"
     ]
    }
   ],
   "source": [
    "%%stata \n",
    "display \"Hello, I am printed by Stata\" \n",
    "display \"We welcome you to our assignment and we hope you enjoy it\""
   ]
  },
  {
   "cell_type": "code",
   "execution_count": 6,
   "metadata": {
    "collapsed": false,
    "scrolled": true
   },
   "outputs": [
    {
     "name": "stdout",
     "output_type": "stream",
     "text": [
      "\n",
      "/Users/jakobschwerter/Dropbox/github/python/Stata/Assignment\n"
     ]
    }
   ],
   "source": [
    "%%stata \n",
    "cd \"/Users/jakobschwerter/Dropbox/github/python/Stata/Assignment\"\n",
    "    * cd \"D:\\Google Doc\\_Tilburg\\_Simulation\\stata\" \n",
    "set seed 100"
   ]
  },
  {
   "cell_type": "markdown",
   "metadata": {},
   "source": [
    "<a id='DGP'></a> \n",
    "## 2.2. Overview of the DGP\n",
    "\n",
    "We will now go through the main part of the simulation process. Minor changes or additions to the process later on will be explained with _Stata's_ commenting functionality within the code, which is done by \" * \".\n",
    "\n",
    "> First we have to _call_ Stata using `%%stata`. Then by using `cd` we indicate where it should look for files and where it can save them.\n",
    "\n",
    "> We further set the seed to 100, so that results are easier to be reproduced."
   ]
  },
  {
   "cell_type": "code",
   "execution_count": 7,
   "metadata": {
    "collapsed": false
   },
   "outputs": [
    {
     "name": "stdout",
     "output_type": "stream",
     "text": [
      "\n",
      "(obs 200)\n"
     ]
    }
   ],
   "source": [
    "%%stata -o simulation\n",
    "drawnorm alpha_i, n(200)\n"
   ]
  },
  {
   "cell_type": "markdown",
   "metadata": {},
   "source": [
    ">We create a new dataset called _simulation_ using `-o`. The type is a pandas core frame Data Frame. This is necessary for `ipystata` on mac, because the data would not be stored otherwise.\n",
    "\n",
    ">Then we draw 200 (independent and identical distributed (iid) random numbers of a standard normal distribution with mean zero and variance 1. We name it $alpha_i$ ($\\alpha_i$). In the context of panel data, the variable $\\alpha_i$ stands for the unobserved time-invariant individual effect.   "
   ]
  },
  {
   "cell_type": "code",
   "execution_count": 8,
   "metadata": {
    "collapsed": false
   },
   "outputs": [
    {
     "name": "stdout",
     "output_type": "stream",
     "text": [
      "\n",
      "(800 observations created)\n"
     ]
    }
   ],
   "source": [
    "%%stata -d simulation -o simulation\n",
    "expand 5"
   ]
  },
  {
   "cell_type": "markdown",
   "metadata": {
    "collapsed": false
   },
   "source": [
    "> `-d` calls the dataset _simulation_ , otherwise the commands afterwards would not find any variables. The command `-o simulation` saves the changes.\n",
    "\n",
    "> We expand the generated data by 5, i.e. simply repeating every alpha 4 additional times. This creates 800 additional observations.\n",
    "\n",
    ">As a result, the vector expands from $(200 \\; \\text{x} \\; 1)$ to $(200 \\cdot 5 \\; \\text{x} \\; 1)$. What we have done is to create a variable of 800 observations, each described by some measure that is randomly generated. The expanding here ensures that for each individual the measure stays constant over time, thus replicating time-invariant individual effects. "
   ]
  },
  {
   "cell_type": "code",
   "execution_count": 9,
   "metadata": {
    "collapsed": false
   },
   "outputs": [
    {
     "name": "stdout",
     "output_type": "stream",
     "text": [
      "\n",
      "\n"
     ]
    }
   ],
   "source": [
    "%%stata -d simulation -o simulation\n",
    "drawnorm nu_it e_it, n(1000)"
   ]
  },
  {
   "cell_type": "markdown",
   "metadata": {},
   "source": [
    "> We draw two new variables (or vectors) now with 1000 entries from a multivariate normal distribution. 1000 draws are made, so that this fits with the 200 persons and the 5 time periods we created by expanding the alphas by 5. Both variables are independent from each other, so they are not correlated, and the data is also i.i.d. over time.\n",
    " \n",
    "> To verify that we did everything correctly, we have a look into summary statistics"
   ]
  },
  {
   "cell_type": "code",
   "execution_count": 10,
   "metadata": {
    "collapsed": false
   },
   "outputs": [
    {
     "name": "stdout",
     "output_type": "stream",
     "text": [
      "\n",
      "    Variable |       Obs        Mean    Std. Dev.       Min        Max\n",
      "-------------+--------------------------------------------------------\n",
      "       index |      1000       499.5    288.8194          0        999\n",
      "     alpha_i |      1000   -.0376166    1.014596  -2.885089    2.10282\n",
      "       nu_it |      1000    .0101147    1.027895  -2.885089   3.081883\n",
      "        e_it |      1000   -.0310172    .9936022  -2.741925   3.359478\n"
     ]
    }
   ],
   "source": [
    "%%stata -d simulation\n",
    "sum "
   ]
  },
  {
   "cell_type": "markdown",
   "metadata": {},
   "source": [
    ">We see the three generated variables $\\alpha_i, \\; nu_{it}, \\; e_{it}$, having a mean very close to zero and a standard deviation close to 1. Further, using stata in python, and index variable is generated automatically. The index variable would be the individual identifier variable if we would run a pooled panel regression. "
   ]
  },
  {
   "cell_type": "code",
   "execution_count": 11,
   "metadata": {
    "collapsed": false
   },
   "outputs": [
    {
     "name": "stdout",
     "output_type": "stream",
     "text": [
      "\n",
      "\n"
     ]
    }
   ],
   "source": [
    "%%stata -d simulation -o simulation\n",
    "g x_it = nu_it + alpha_i"
   ]
  },
  {
   "cell_type": "markdown",
   "metadata": {},
   "source": [
    ">Generates our variable of interest $x_{it}$ using the two variables we created in a previous step. Since $\\alpha_i$ is part of it and is time-invariant, $x_{it}$ will be correlated over time."
   ]
  },
  {
   "cell_type": "code",
   "execution_count": 12,
   "metadata": {
    "collapsed": false
   },
   "outputs": [
    {
     "name": "stdout",
     "output_type": "stream",
     "text": [
      "\n",
      "\n"
     ]
    }
   ],
   "source": [
    "%%stata -d simulation -o simulation\n",
    "g y_it=3+alpha_i+2*x_it+e_it"
   ]
  },
  {
   "cell_type": "markdown",
   "metadata": {},
   "source": [
    ">Generates our dependent variable $y_{it}$. We use an intercept, $\\alpha_i$, dependent variable $x_{it}$ and residual $e_{it}$ for that. The assigned regression parameter to $x_{it}$ is $2$.\n",
    " \n",
    ">The underlying model is a panel data model, consisting of 200 individuals and 5 time periods per person. It is completely balanced. The variables $y_{it}$ and $x_{it}$ are correlated with a constant term $\\alpha_i$. This produces autocorrelation within an individual.\n",
    "\n",
    "\n",
    "\n",
    ">Checking if the code worked:"
   ]
  },
  {
   "cell_type": "code",
   "execution_count": 13,
   "metadata": {
    "collapsed": false
   },
   "outputs": [
    {
     "name": "stdout",
     "output_type": "stream",
     "text": [
      "\n",
      "             |    index  alpha_i    nu_it     e_it     x_it     y_it\n",
      "-------------+------------------------------------------------------\n",
      "       index |   1.0000 \n",
      "             |\n",
      "             |\n",
      "     alpha_i |   0.0079   1.0000 \n",
      "             |   0.8022\n",
      "             |\n",
      "       nu_it |   0.0283   0.2159   1.0000 \n",
      "             |   0.3711   0.0000\n",
      "             |\n",
      "        e_it |  -0.0082  -0.0082  -0.0185   1.0000 \n",
      "             |   0.7967   0.7949   0.5600\n",
      "             |\n",
      "        x_it |   0.0233   0.7764   0.7830  -0.0172   1.0000 \n",
      "             |   0.4612   0.0000   0.0000   0.5880\n",
      "             |\n",
      "        y_it |   0.0180   0.8425   0.6525   0.2253   0.9579   1.0000 \n",
      "             |   0.5701   0.0000   0.0000   0.0000   0.0000\n",
      "             |\n",
      "An output file must be specified\n"
     ]
    }
   ],
   "source": [
    "%%stata -d simulation\n",
    "pwcorr,sig\n",
    "corrtex alpha_i e_it x_it y_it, sig "
   ]
  },
  {
   "cell_type": "markdown",
   "metadata": {},
   "source": [
    "> The command [_pwcorr_](http://www.stata.com/help.cgi?pwcorr) shows a correlation table of the variables in the dataset (which were generated previously). The option _sig_ prints significance level for each correlation. Results are presented above. There is a statistically significant correlation between $x_{it}$ and $\\alpha_i$ (77.64%). As a result, not including or solving for $\\alpha_i$ when regressing in a panel model $x_it$ on $y_{it}$ will produce biased estimates. The correlation of $x_{it}$ on $y_{it}$ and $\\alpha_i$ is naturally very high, since it depends on both variables in our set-up.\n",
    " The correlation of $e_{it}$ with $x_{it}$ and $\\alpha_i$ is very low and statistical insignificant, which is necessary and by construction. An OLS model like $y_{it} = \\beta x_{it}$  will be upward biased since the correlation of $\\alpha_i$ and $x_{it}$ is positive. $\\beta$ will estimate the effect of $\\alpha$ and $x_{it}$. If the correlation would be negative, it would have been downward biased.\n",
    "\n",
    " To check if the DGP is correct, we do one simulation without imposing a trend into the DGP.\n",
    "\n",
    "<a id='SimNoTrend'></a> \n",
    "\n",
    "\n",
    "# 2.2. Simulation without Random Trend in the true DGP\n",
    "\n",
    "Now we run the DGP [defined earlier](#DGP) and verify how different estimation procedures are able to capture the parameters we have embedded, namely a intercept of 3 and a $\\beta$ of 2. We evaluate the following panel data methods\n",
    "   + Pooled regression, i.e. ignoring the panel structure as presented in equation [(1)](#EQ1) and pooling time and individual information together \n",
    "   + Fixed Effects (FE),  [(2)](#EQ2)\n",
    "   + First-Difference (FD),  [(3)](#EQ3)\n",
    "   + Random-Trend using the first approach, namely taking two first-differences (_pure_),  [(4)](#EQ4)\n",
    "   + Random-Trend using the second approach, namely taking first the  first-differences and then the fixed-effects (_mix_), [(5)](#EQ5)\n"
   ]
  },
  {
   "cell_type": "code",
   "execution_count": 14,
   "metadata": {
    "collapsed": false
   },
   "outputs": [
    {
     "name": "stdout",
     "output_type": "stream",
     "text": [
      "\n",
      ". qui expand 5\n",
      ". qui drawnorm nu_it e_it, n(1000)\n",
      ". qui xtset i t \n",
      ". qui gen dx_it = d.x_it \n",
      ". qui gen dy_it = d.y_it \n",
      ". . qui eststo: xtreg  y_it x_it, fe  \n",
      ". qui eststo: reg d.y_it d.x_it, \n",
      ". qui eststo: xtreg d.y_it d.x_it,fe \n",
      ". qui eststo: reg d2.y_it d2.x_it,  \n",
      ". esttab, long compress nogaps rename(D.x_it x_it D2.x_it x_it D.dx_it x_it) drop(_cons) b(%7,3f) se(%6.4f) scalars(\"N N\" \"F F-Stat\" \"p p-value\" \"r2 r2\") sfmt(%4,0f %5,0f %5,2f %6,2f) star(* 0.001) la\n",
      "> bel mtitles( \"Pool\" \"FE\" \"FD\" \"FD-FE\" \"FD-FD\" ) title(\"Without a random trend component\") nolabel\n",
      "\n",
      "Without a random trend component\n",
      "-----------------------------------------------------------------------\n",
      "                       (1)        (2)        (3)        (4)        (5) \n",
      "                      Pool         FE         FD      FD-FE      FD-FD \n",
      "-----------------------------------------------------------------------\n",
      "x_it                 2,500*     2,052*     2,002*     1,989*     1,995*\n",
      "                  (0.0312)   (0.0338)   (0.0354)   (0.0412)   (0.0422) \n",
      "-----------------------------------------------------------------------\n",
      "Observations          1000       1000        800        800        600 \n",
      "F-Stat                6403       3675       3192       2331       2238 \n",
      "p-value               0,00       0,00       0,00       0,00       0,00 \n",
      "r2                    0,89       0,82       0,80       0,80       0,79 \n",
      "-----------------------------------------------------------------------\n",
      "Standard errors in parentheses\n",
      "* p<0.001\n"
     ]
    }
   ],
   "source": [
    "%%stata -o sim\n",
    "qui set seed 123\n",
    "qui drawnorm alpha_i, n(200)\n",
    "qui gen i = _n \n",
    "    * included additional to generate an index for the individual level\n",
    "qui expand 5\n",
    "qui bys i: g t = _n \n",
    "    * included additional to generate an index for the time level\n",
    "qui drawnorm nu_it e_it, n(1000)\n",
    "qui g x_it = nu_it + alpha_i\n",
    "qui g y_it = 3 + alpha_i + 2*x_it + e_it \n",
    "    * DGP\n",
    "\n",
    "qui xtset i t \n",
    "    * give stata panel-information\n",
    "\n",
    "qui gen dx_it = d.x_it \n",
    "    * generates the first-difference for x prior to the regression command\n",
    "qui gen dy_it = d.y_it \n",
    "    * generates the first-difference for y prior to the regression command\n",
    "\n",
    "\n",
    "qui eststo: reg y_it x_it, cluster(i) \n",
    "    * OLS-regression (biased) (eststo saves the regression results)\n",
    "qui eststo: xtreg  y_it x_it, fe  \n",
    "    * FE-regression (OLS, but first the within-transformation is done)\n",
    "qui eststo: reg d.y_it d.x_it, \n",
    "    * FD-regression\n",
    "qui eststo: xtreg d.y_it d.x_it,fe \n",
    "    * Random-Trend 1 (mix)\n",
    "qui eststo: reg d2.y_it d2.x_it,  \n",
    "    * Random-Trend 2 (pure)  \n",
    "\n",
    "esttab, long compress nogaps rename(D.x_it x_it D2.x_it x_it D.dx_it x_it) drop(_cons) b(%7,3f) se(%6.4f) scalars(\"N N\" \"F F-Stat\" \"p p-value\" \"r2 r2\") sfmt(%4,0f %5,0f %5,2f %6,2f) star(* 0.001) label mtitles( \"Pool\" \"FE\" \"FD\" \"FD-FE\" \"FD-FD\" ) title(\"Without a random trend component\") nolabel\n",
    "    * esttab produces the table"
   ]
  },
  {
   "cell_type": "markdown",
   "metadata": {},
   "source": [
    "> We can see that the results of the normal OLS are biased, i.e. the coefficient for $x_{it}$ is not 2 but around 2.5. For FE and the FD however the coefficient if very close to 2.\n",
    "Also both random-trend (RT) approaches are unbiased. _mix_ is farthermost of the true parameter and also the standard error is the highest (together with the other RT-approach). So we can conclude that even if we do not have a random-trend component, using two transformations does not really harm the estimation.\n",
    "\n",
    "> Comparing the different RT calculations, we see that the _mix_ seem to be more efficient, but the _pure_ is closer to the true value. This is consistent comparing just the normal FE and FD."
   ]
  },
  {
   "cell_type": "markdown",
   "metadata": {},
   "source": [
    "# 2.3. Monte Carlo study without trend in the DGP\n",
    "<a id='MCnoTrend'></a> \n",
    "\n",
    "In a single simulation we need to keep in mind that the results from just one run can be misleading, as they can be driven by chance if the seed in use simply draws numbers which work better for one method than the other. Therefore, we will run a program now to do a Monte Carlo study which will take 1000 replications to see if above results are robust.\n",
    "\n",
    "What we add in the code now is:\n",
    "\n",
    "   1. A timer to measure the time the code runs. The necessary commands are `timer on 1`, starting the timer, called '1', `timer off 1`, stopping the started timer and `timer list 1`, displaying the time needed.\n",
    "   2.  For the simulation commands `simulation`, we first have to embed the code in a program. The first line `capture program drop mcprog_pool` drops if somehow the program is already defined. This command is useful if you run the code an additional time. `program mcprog_pool` starts the program and ends with `end`.\n",
    "\n",
    "The DGP in each of the following simulations stays the same, namely\n",
    "\n",
    "$$y_{it} = 3 + \\alpha_i + 2\\cdot x_{it} + e_{it} $$\n",
    "\n",
    "What we change in each of the Monte Carlo specifications is the estimation procedure by applying each of the procedures discussed so far. In the code, the following notation will be used: _pool_ stands for the [pooled regress](#MCnoTrendPool), _fe_ for the [within-transformation](#MCnoTrendFE), _fd_ for [the first-difference](#MCnoTrendFD), _mix_ for the random-trend estimation using [first-difference](#MCnoTrendFDFE) and fixed-effects and _pure_ the random trend with [two first-differences](#MCnoTrendFDFD).  \n",
    "\n",
    "The simulation results are stored in `_b` for the coefficient and `_se` for the standard errors. The simulation of the standard errors differ from the standard deviation of the estimate ($\\beta$) which was presented in the table above. In the simulation only the variation in beta is used. It is not calculated\n",
    "by the normal variance formula which includes the variances of the error component $\\alpha_{i}$ und $e_{it}$.\n",
    "\n",
    "We take 1000 replications and we call the earlier defined program `mcprog_pool` (Monte Carlo Program - Pooled Regression). \n",
    "\n",
    "At the end we rename the coefficient for a better understanding and drop everything else from the data frame (`keep beta_pool`). The outcomes from all Monte Carlo runs are [compared](#MCnoTrendComp) in the end.\n",
    "\n"
   ]
  },
  {
   "cell_type": "markdown",
   "metadata": {},
   "source": [
    "<a id='MCnoTrendPool'></a>"
   ]
  },
  {
   "cell_type": "markdown",
   "metadata": {},
   "source": [
    "###  2.3.1. Pooled Regression"
   ]
  },
  {
   "cell_type": "code",
   "execution_count": 15,
   "metadata": {
    "collapsed": false
   },
   "outputs": [
    {
     "name": "stdout",
     "output_type": "stream",
     "text": [
      "\n",
      "The time this code runs is\n",
      "   1:     11.04 /        1 =      11.0390\n"
     ]
    }
   ],
   "source": [
    "%%stata -o pool \n",
    "timer on 1\n",
    "set seed 100\n",
    "capture program drop mcprog_pool\n",
    "program mcprog_pool\n",
    "        clear\n",
    "        drawnorm alpha_i, n(200)\n",
    "        gen i = _n \n",
    "        expand 5\n",
    "        bys i: g t = _n \n",
    "        drawnorm nu_it e_it, n(1000)\n",
    "        g x_it=nu_it+alpha_i\n",
    "        g y_it=3+alpha_i+2*x_it+e_it\n",
    "        reg y_it x_it, \n",
    "        drop nu_it alpha_i e_it y_it x_it\n",
    "end\n",
    "        simulate _b _se, nodots nolegend  reps(1000): mcprog_pool\n",
    "        rename _b_x_it beta_pool\n",
    "        rename _se_x_it se_pool\n",
    "        keep beta_pool se_pool\n",
    "timer off 1\n",
    "display \"The time this code runs is\"\n",
    "timer list 1\n"
   ]
  },
  {
   "cell_type": "markdown",
   "metadata": {},
   "source": [
    "<a id='MCnoTrendFE'></a>"
   ]
  },
  {
   "cell_type": "markdown",
   "metadata": {},
   "source": [
    "### 2.3.2.  FE Estimation"
   ]
  },
  {
   "cell_type": "code",
   "execution_count": 16,
   "metadata": {
    "collapsed": false
   },
   "outputs": [
    {
     "name": "stdout",
     "output_type": "stream",
     "text": [
      "\n",
      "The time this code runs is\n",
      "   1:     50.93 /        1 =      50.9260\n"
     ]
    }
   ],
   "source": [
    "%%stata -o fe\n",
    "timer on 1\n",
    "set seed 100\n",
    "capture program drop mcprog_fe\n",
    "        program mcprog_fe\n",
    "         clear\n",
    "         drawnorm alpha_i, n(200)\n",
    "         gen i = _n \n",
    "         expand 5\n",
    "         bys i: g t = _n \n",
    "         drawnorm nu_it e_it, n(1000)\n",
    "         g x_it=nu_it+alpha_i\n",
    "         g y_it=3+alpha_i+2*x_it+e_it\n",
    "         xtset i t\n",
    "         xtreg y_it x_it, fe \n",
    "         drop nu_it alpha_i e_it y_it x_it\n",
    "end\n",
    "        simulate _b _se, nodots nolegend  reps(1000): mcprog_fe\n",
    "        rename _b_x_it beta_fe\n",
    "        rename _se_x_it se_fe\n",
    "        keep beta_fe se_fe\n",
    "timer off 1\n",
    "display \"The time this code runs is\"\n",
    "timer list 1\n",
    "        "
   ]
  },
  {
   "cell_type": "markdown",
   "metadata": {},
   "source": [
    "<a id='MCnoTrendFD'></a> "
   ]
  },
  {
   "cell_type": "markdown",
   "metadata": {},
   "source": [
    "### 2.3.2. FD Estimation"
   ]
  },
  {
   "cell_type": "code",
   "execution_count": 17,
   "metadata": {
    "collapsed": false,
    "scrolled": true
   },
   "outputs": [
    {
     "name": "stdout",
     "output_type": "stream",
     "text": [
      "\n",
      "The time this code runs is\n",
      "   1:     19.95 /        1 =      19.9520\n",
      ".         \n"
     ]
    }
   ],
   "source": [
    "%%stata -o fd\n",
    "timer on 1\n",
    "set seed 100\n",
    "capture program drop mcprog_fd\n",
    "        program mcprog_fd\n",
    "        clear\n",
    "        drawnorm alpha_i, n(200)\n",
    "        gen i = _n \n",
    "        expand 5\n",
    "        bys i: g t = _n \n",
    "        drawnorm nu_it e_it, n(1000)\n",
    "        g x_it=nu_it+alpha_i\n",
    "        g y_it=3+alpha_i+2*x_it+e_it\n",
    "        xtset i t\n",
    "        g dx_it = d.x_it\n",
    "        g dy_it = d.y_it\n",
    "        reg dy_it dx_it, \n",
    "        drop nu_it alpha_i e_it dy_it dx_it y_it x_it\n",
    "end\n",
    "        simulate _b _se, nodots nolegend  reps(1000): mcprog_fd\n",
    "        rename _b_dx_it beta_fd\n",
    "        rename _se_dx_it se_fd\n",
    "        keep beta_fd se_fd\n",
    "timer off 1\n",
    "display \"The time this code runs is\"\n",
    "timer list 1\n",
    "        \n",
    "        "
   ]
  },
  {
   "cell_type": "markdown",
   "metadata": {},
   "source": [
    "<a id='MCnoTrendFDFE'></a> "
   ]
  },
  {
   "cell_type": "markdown",
   "metadata": {},
   "source": [
    "###  2.3.3.  FD-FE (mix) Estimation"
   ]
  },
  {
   "cell_type": "code",
   "execution_count": 18,
   "metadata": {
    "collapsed": false
   },
   "outputs": [
    {
     "name": "stdout",
     "output_type": "stream",
     "text": [
      "\n",
      ". timer off 1\n",
      "The time this code runs is\n",
      "   1:     54.90 /        1 =      54.9020\n"
     ]
    }
   ],
   "source": [
    "%%stata -o mix\n",
    "timer on 1\n",
    "set seed 100\n",
    "capture program drop mcprog_mix\n",
    "        program mcprog_mix\n",
    "         clear\n",
    "         drawnorm alpha_i, n(200)\n",
    "         gen i = _n \n",
    "         expand 5\n",
    "         bys i: g t = _n \n",
    "         drawnorm nu_it e_it, n(1000)\n",
    "         g x_it=nu_it+alpha_i\n",
    "        g y_it=3+alpha_i+2*x_it+e_it\n",
    "        xtset i t\n",
    "        g dx_it = d.x_it\n",
    "        g dy_it = d.y_it\n",
    "         xtreg dy_it dx_it, fe \n",
    "         drop nu_it alpha_i e_it dy_it dx_it y_it x_it\n",
    "end\n",
    "        simulate _b _se, nodots nolegend  reps(1000): mcprog_mix\n",
    "        rename _b_dx_it beta_mix\n",
    "        rename _se_dx_it se_mix\n",
    "        keep beta_mix se_mix\n",
    "        \n",
    "timer off 1\n",
    "display \"The time this code runs is\"\n",
    "timer list 1"
   ]
  },
  {
   "cell_type": "markdown",
   "metadata": {},
   "source": [
    "<a id='MCnoTrendFDFD'></a> "
   ]
  },
  {
   "cell_type": "markdown",
   "metadata": {},
   "source": [
    "###  2.3.4.  FD-FD (pure) Estimation"
   ]
  },
  {
   "cell_type": "code",
   "execution_count": 19,
   "metadata": {
    "collapsed": false
   },
   "outputs": [
    {
     "name": "stdout",
     "output_type": "stream",
     "text": [
      "\n",
      ". timer off 1\n",
      "The time this code runs is\n",
      "   1:     16.96 /        1 =      16.9620\n"
     ]
    }
   ],
   "source": [
    "%%stata -o pure\n",
    "timer on 1\n",
    "set seed 100\n",
    "capture program drop mcprog_pure\n",
    "        program mcprog_pure\n",
    "         clear\n",
    "         drawnorm alpha_i, n(200)\n",
    "         gen i = _n \n",
    "         expand 5\n",
    "         bys i: g t = _n \n",
    "         drawnorm nu_it e_it, n(1000)\n",
    "         g x_it=nu_it+alpha_i\n",
    "         g y_it=3+alpha_i+2*x_it+e_it\n",
    "        xtset i t\n",
    "        g d2x_it = d2.x_it\n",
    "        g d2y_it = d2.y_it\n",
    "         reg d2y_it d2x_it, \n",
    "         drop nu_it alpha_i e_it y_it x_it d2y_it d2x_it\n",
    "end\n",
    "        simulate _b _se, nodots nolegend  reps(1000): mcprog_pure\n",
    "        rename _b_d2x_it beta_pure\n",
    "        rename _se_d2x_it se_pure\n",
    "        keep beta_pure se_pure\n",
    "        \n",
    "timer off 1\n",
    "display \"The time this code runs is\"\n",
    "timer list 1"
   ]
  },
  {
   "cell_type": "markdown",
   "metadata": {},
   "source": [
    "> First, before we talk about the regression results, we want to point out that the within-transformation in FE and _mix_ is the reason the time is much higher in those to simulations. Thus, those are less efficient in the sense on how fast they can be calculated. "
   ]
  },
  {
   "cell_type": "markdown",
   "metadata": {},
   "source": [
    "<a id='MCnoTrendComp'></a> "
   ]
  },
  {
   "cell_type": "markdown",
   "metadata": {
    "collapsed": false
   },
   "source": [
    "###  2.3.5. Comparison of results"
   ]
  },
  {
   "cell_type": "code",
   "execution_count": 20,
   "metadata": {
    "collapsed": false
   },
   "outputs": [
    {
     "name": "stdout",
     "output_type": "stream",
     "text": [
      "          Pool        FE        FD       mix      pure\n",
      "Beta  2.499105  2.001513  2.000731  2.000577  1.999209\n",
      "SE    0.027386  0.035339  0.035368  0.040823  0.040857\n"
     ]
    }
   ],
   "source": [
    "############################ Regression Results without trend\n",
    "# Pool Regression Results\n",
    "pool_mean = pool.mean() # Storing the results produces by the pool-simulation\n",
    "beta_pool = pool_mean[0] # Results of the coefficient\n",
    "se_pool = pool_mean[1] # Results of the standard error\n",
    "# FE Regression Results\n",
    "fe_mean = fe.mean()\n",
    "beta_fe = fe_mean[0]\n",
    "se_fe = fe_mean[1]\n",
    "# FD Regression Results\n",
    "fd_mean = fd.mean()\n",
    "beta_fd = fd_mean[0]\n",
    "se_fd = fd_mean[1]\n",
    "# Mix Regression Results\n",
    "mix_mean = mix.mean()\n",
    "beta_mix = mix_mean[0]\n",
    "se_mix = mix_mean[1]\n",
    "# Pure Regression Results\n",
    "pure_mean = pure.mean()\n",
    "beta_pure = pure_mean[0]\n",
    "se_pure = pure_mean[1]\n",
    "\n",
    "\n",
    "results_notrend_beta = np.array([beta_pool, beta_fe, beta_fd, beta_mix, beta_pure])\n",
    "results_notrend_se = np.array([se_pool, se_fe, se_fd, se_mix, se_pure])\n",
    "results_notrend = np.mat([results_notrend_beta, results_notrend_se]) \n",
    "results_notrend = pd.DataFrame(results_notrend)\n",
    "results_notrend.index = [\"Beta\", \"SE\"]\n",
    "results_notrend.columns = [\"Pool\", \"FE\", \"FD\", \"mix\", \"pure\"]\n",
    "print results_notrend\n",
    "\n"
   ]
  },
  {
   "cell_type": "markdown",
   "metadata": {},
   "source": [
    "> We can see that the pooled regression is upward biased from the true beta value (2). This is in line with econometric theory, as not considering the nature of the panel and pooling together the unobserved individual effects produces biased results. All other methods produce unbiased results that very close to each other. The SE are smallest for the pooled regression. Then the FE and FD are very close to each other and both RT has the highest variation. For every transformation we do we have a loss in efficiency. "
   ]
  },
  {
   "cell_type": "markdown",
   "metadata": {},
   "source": [
    "<a id='MCNoTrend'></a> "
   ]
  },
  {
   "cell_type": "markdown",
   "metadata": {},
   "source": [
    "\n",
    "# 2.4. Monte Carlo study with the same trend for all individuals\n",
    "\n",
    "Here we investigate what happens to our estimator as we include the same trend for all individuals. If we would just run normal regression as presented first, we could just use the same datasets, replacing just some variables. But since we have to define programs, we need to copy all the programs and change for the trend. We will leave out the pooled regression because we already know, that this one is biased just due to the constant $\\alpha_i$.\n",
    "\n",
    "###  2.4.1. FE Regression"
   ]
  },
  {
   "cell_type": "code",
   "execution_count": 21,
   "metadata": {
    "collapsed": false
   },
   "outputs": [
    {
     "name": "stdout",
     "output_type": "stream",
     "text": [
      "\n",
      ". timer off 1\n",
      "The time this code runs is\n",
      "   1:      5.61 /        1 =       5.6070\n"
     ]
    }
   ],
   "source": [
    "%%stata -o fe_st\n",
    "timer on 1\n",
    "set seed 100\n",
    "capture program drop mcprog_fe\n",
    "        program mcprog_fe\n",
    "        clear\n",
    "        drawnorm alpha_i, n(200)\n",
    "        gen i = _n \n",
    "        expand 5\n",
    "        bys i: g t = _n \n",
    "        drawnorm nu_it e_it, n(1000)\n",
    "        g x_it = nu_it + alpha_i + t \n",
    "            *NOW: x_it is correlated with a linear term\n",
    "        g y_it = 3 + alpha_i + 2*x_it + t + e_it \n",
    "            *DGP includes now a linear trend t\n",
    "        xtset i t\n",
    "        xtreg y_it x_it, fe \n",
    "        drop nu_it alpha_i e_it y_it x_it\n",
    "end\n",
    "        simulate _b _se, nodots nolegend  reps(100): mcprog_fe\n",
    "        rename _b_x_it beta_fe_st\n",
    "        rename _se_x_it se_fe_st\n",
    "        keep beta_fe_st se_fe_st\n",
    "            *st = same trend\n",
    "timer off 1\n",
    "display \"The time this code runs is\"\n",
    "timer list 1"
   ]
  },
  {
   "cell_type": "markdown",
   "metadata": {},
   "source": [
    "###  2.4.1. FD Regression"
   ]
  },
  {
   "cell_type": "code",
   "execution_count": 22,
   "metadata": {
    "collapsed": false
   },
   "outputs": [
    {
     "name": "stdout",
     "output_type": "stream",
     "text": [
      "\n",
      "The time this code runs is\n",
      "   1:      2.08 /        1 =       2.0750\n"
     ]
    }
   ],
   "source": [
    "%%stata -o fd_st\n",
    "timer on 1\n",
    "set seed 100\n",
    "capture program drop mcprog_fe\n",
    "        program mcprog_fe\n",
    "        clear\n",
    "        drawnorm alpha_i, n(200)\n",
    "        gen i = _n \n",
    "        expand 5\n",
    "        bys i: g t = _n \n",
    "        drawnorm nu_it e_it, n(1000)\n",
    "        g x_it = nu_it + alpha_i + t \n",
    "            * NOW: x_it is correlated with a linear term\n",
    "        g y_it = 3 + alpha_i + 2*x_it + t + e_it \n",
    "            * DGP includes know the linear trend\n",
    "        xtset i t\n",
    "        g dx_it = d.x_it\n",
    "        g dy_it = d.y_it\n",
    "        reg dy_it dx_it, \n",
    "        drop nu_it alpha_i e_it y_it x_it dy_it dx_it\n",
    "end\n",
    "        simulate _b _se, nodots nolegend  reps(100): mcprog_fe\n",
    "        rename _b_dx_it beta_fd_st\n",
    "        rename _se_dx_it se_fd_st\n",
    "        keep beta_fd_st se_fd_st\n",
    "timer off 1\n",
    "display \"The time this code runs is\"\n",
    "timer list 1"
   ]
  },
  {
   "cell_type": "markdown",
   "metadata": {},
   "source": [
    "###  2.4.2.  FD-FE (mix) Estimation"
   ]
  },
  {
   "cell_type": "code",
   "execution_count": 23,
   "metadata": {
    "collapsed": false
   },
   "outputs": [
    {
     "name": "stdout",
     "output_type": "stream",
     "text": [
      "\n",
      ". timer off 1\n",
      "The time this code runs is\n",
      "   1:      5.88 /        1 =       5.8790\n"
     ]
    }
   ],
   "source": [
    "%%stata -o mix_st\n",
    "timer on 1\n",
    "set seed 100\n",
    "capture program drop mcprog_mix\n",
    "        program mcprog_mix\n",
    "        clear\n",
    "        drawnorm alpha_i, n(200)\n",
    "        gen i = _n \n",
    "        expand 5\n",
    "        bys i: g t = _n \n",
    "        drawnorm nu_it e_it, n(1000)\n",
    "        g x_it = nu_it + alpha_i + t \n",
    "            * NOW: x_it is correlated with a linear term\n",
    "        g y_it = 3 + alpha_i + 2*x_it + t + e_it \n",
    "            * DGP includes know the linear trend\n",
    "        xtset i t\n",
    "        g dx_it = d.x_it\n",
    "        g dy_it = d.y_it\n",
    "        xtreg dy_it dx_it, fe \n",
    "        drop nu_it alpha_i e_it dy_it dx_it y_it x_it\n",
    "end\n",
    "        simulate _b _se, nodots nolegend  reps(100): mcprog_mix\n",
    "        rename _b_dx_it beta_mix_st\n",
    "        rename _se_dx_it se_mix_st\n",
    "        keep beta_mix_st se_mix_st\n",
    "        \n",
    "timer off 1\n",
    "display \"The time this code runs is\"\n",
    "timer list 1"
   ]
  },
  {
   "cell_type": "markdown",
   "metadata": {},
   "source": [
    "###  2.4.3.  FD-FD (pure) Estimation"
   ]
  },
  {
   "cell_type": "code",
   "execution_count": 24,
   "metadata": {
    "collapsed": false
   },
   "outputs": [
    {
     "name": "stdout",
     "output_type": "stream",
     "text": [
      "\n",
      ". timer off 1\n",
      "The time this code runs is\n",
      "   1:      1.96 /        1 =       1.9630\n"
     ]
    }
   ],
   "source": [
    "%%stata -o pure_st\n",
    "timer on 1\n",
    "set seed 100\n",
    "capture program drop mcprog_pure\n",
    "        program mcprog_pure\n",
    "        clear\n",
    "        drawnorm alpha_i, n(200)\n",
    "        gen i = _n \n",
    "        expand 5\n",
    "        bys i: g t = _n \n",
    "        drawnorm nu_it e_it, n(1000)\n",
    "        g x_it = nu_it + alpha_i + t \n",
    "            * NOW: x_it is correlated with a linear term\n",
    "        g y_it = 3 + alpha_i + 2*x_it + t + e_it \n",
    "            * DGP includes know the linear trend\n",
    "        xtset i t\n",
    "        g d2x_it = d2.x_it\n",
    "        g d2y_it = d2.y_it\n",
    "        reg d2y_it d2x_it, \n",
    "            * cluster(i)\n",
    "        drop nu_it alpha_i e_it y_it x_it d2y_it d2x_it\n",
    "end\n",
    "        simulate _b _se, nodots nolegend  reps(100): mcprog_pure\n",
    "        rename _b_d2x_it beta_pure_st\n",
    "        rename _se_d2x_it se_pure_st\n",
    "        keep beta_pure_st se_pure_st\n",
    "        \n",
    "timer off 1\n",
    "display \"The time this code runs is\"\n",
    "timer list 1"
   ]
  },
  {
   "cell_type": "markdown",
   "metadata": {},
   "source": [
    "###  2.4.4. Comparison of results"
   ]
  },
  {
   "cell_type": "code",
   "execution_count": 25,
   "metadata": {
    "collapsed": false
   },
   "outputs": [
    {
     "name": "stdout",
     "output_type": "stream",
     "text": [
      "            FE        FD       mix      pure\n",
      "Beta  2.714095  2.003978  2.004183  2.002594\n",
      "SE    0.024645  0.035522  0.040986  0.041070\n"
     ]
    }
   ],
   "source": [
    "############################ Regression Results with same trend\n",
    "# FE Regression Results\n",
    "fe_mean = fe_st.mean()\n",
    "beta_fe = fe_mean[0]\n",
    "se_fe = fe_mean[1]\n",
    "# FD Regression Results\n",
    "fd_mean = fd_st.mean()\n",
    "beta_fd = fd_mean[0]\n",
    "se_fd = fd_mean[1]\n",
    "# Mix Regression Results\n",
    "mix_mean = mix_st.mean()\n",
    "beta_mix = mix_mean[0]\n",
    "se_mix = mix_mean[1]\n",
    "# Pure Regression Results\n",
    "pure_mean = pure_st.mean()\n",
    "beta_pure = pure_mean[0]\n",
    "se_pure = pure_mean[1]\n",
    "\n",
    "\n",
    "results_sametrend_beta = np.array([beta_fe, beta_fd, beta_mix, beta_pure])\n",
    "results_sametrend_se = np.array([se_fe, se_fd, se_mix, se_pure])\n",
    "results_sametrend = np.mat([results_sametrend_beta, results_sametrend_se]) \n",
    "results_sametrend = pd.DataFrame(results_sametrend)\n",
    "results_sametrend.index = [\"Beta\", \"SE\"]\n",
    "results_sametrend.columns = [ \"FE\", \"FD\", \"mix\", \"pure\"]\n",
    "print results_sametrend"
   ]
  },
  {
   "cell_type": "markdown",
   "metadata": {},
   "source": [
    "\n",
    "> As expected, the simulation shows that if the trend is the same for all individuals in the data, the within-transformation cannot solve the linear trend. Thereby the coefficient is biased. Surprisingly however, the first-difference is enough to solve for the problem introduced by a correlation of the variable of interest and the trend. We will not take a deeper look here, but it might be interest to investigate how many individuals are allowed to differ so that the first-difference is not unbiased anymore.\n",
    "The FD is thereby more robust than the FE. It is however questionable in empirical work if the observed individuals really follow the same trend.\n",
    "\n",
    ">Further, the first-difference performs better than the _mix_, but worse than the _pure_. The _pure_ again has a higher standard error than the _mix_.\n",
    "\n",
    "<a id='MCIndivTrend'></a> \n",
    "\n",
    "# 2.5. Monte Carlo study with individual specific linear trends (Random Trend)\n",
    "\n",
    "\n",
    "Here we will (finally) introduce the model including the individual specific linear trend. Here we expect that only the two RT-methods will solve for the bias in $x_it$ and that now both, FE and FD preform poorly.\n",
    "\n"
   ]
  },
  {
   "cell_type": "markdown",
   "metadata": {
    "collapsed": false
   },
   "source": [
    "### 2.5.1 FE Estimation"
   ]
  },
  {
   "cell_type": "code",
   "execution_count": 26,
   "metadata": {
    "collapsed": false
   },
   "outputs": [
    {
     "name": "stdout",
     "output_type": "stream",
     "text": [
      "\n",
      ". timer off 1\n",
      "The time this code runs is\n",
      "   1:      5.55 /        1 =       5.5490\n"
     ]
    }
   ],
   "source": [
    "%%stata -o fe_it\n",
    "timer on 1\n",
    "set seed 100\n",
    "capture program drop mcprog_fe\n",
    "        program mcprog_fe\n",
    "        clear\n",
    "        drawnorm alpha_i, n(200)\n",
    "        gen i = _n \n",
    "        expand 5\n",
    "        bys i: g t = _n \n",
    "        gen trend = t*i\n",
    "            * individual specific trand   \n",
    "        drawnorm nu_it e_it, n(1000)\n",
    "        g x_it = nu_it + alpha_i + trend \n",
    "            * NOW: x_it is correlated with a linear specific term\n",
    "        g y_it = 3 + alpha_i + 2*x_it + trend + e_it \n",
    "        xtset i t\n",
    "        xtreg y_it x_it, fe \n",
    "            * cluster(i)\n",
    "        drop nu_it alpha_i e_it y_it x_it\n",
    "end\n",
    "        simulate _b _se, nodots nolegend  reps(100): mcprog_fe\n",
    "        rename _b_x_it beta_fe_it\n",
    "        rename _se_x_it se_fe_it\n",
    "        keep beta_fe_it se_fe_it\n",
    "            * it = individual trend\n",
    "timer off 1\n",
    "display \"The time this code runs is\"\n",
    "timer list 1"
   ]
  },
  {
   "cell_type": "markdown",
   "metadata": {},
   "source": [
    "### 2.5.2 FD Estimation"
   ]
  },
  {
   "cell_type": "code",
   "execution_count": 27,
   "metadata": {
    "collapsed": false
   },
   "outputs": [
    {
     "name": "stdout",
     "output_type": "stream",
     "text": [
      "\n",
      "The time this code runs is\n",
      "   1:      1.87 /        1 =       1.8730\n"
     ]
    }
   ],
   "source": [
    "%%stata -o fd_it\n",
    "timer on 1\n",
    "set seed 100\n",
    "capture program drop mcprog_fe\n",
    "        program mcprog_fe\n",
    "        clear\n",
    "        drawnorm alpha_i, n(200)\n",
    "        gen i = _n \n",
    "        expand 5\n",
    "        bys i: g t = _n \n",
    "        gen trend = t*i \n",
    "            * individual specific trand   \n",
    "        drawnorm nu_it e_it, n(1000)\n",
    "        g x_it = nu_it + alpha_i + trend \n",
    "            * NOW: x_it is correlated with a linear specific term\n",
    "        g y_it = 3 + alpha_i + 2*x_it + trend + e_it \n",
    "        xtset i t\n",
    "        g dx_it = d.x_it\n",
    "        g dy_it = d.y_it\n",
    "        reg dy_it dx_it, \n",
    "        drop nu_it alpha_i e_it y_it x_it dy_it dx_it\n",
    "end\n",
    "        simulate _b _se, nodots nolegend  reps(100): mcprog_fe\n",
    "        rename _b_dx_it beta_fd_it\n",
    "        rename _se_dx_it se_fd_it\n",
    "        keep beta_fd_it se_fd_it\n",
    "timer off 1\n",
    "display \"The time this code runs is\"\n",
    "timer list 1"
   ]
  },
  {
   "cell_type": "markdown",
   "metadata": {},
   "source": [
    "### 2.5.3 FD-FE (mix) Estimation"
   ]
  },
  {
   "cell_type": "code",
   "execution_count": 28,
   "metadata": {
    "collapsed": false
   },
   "outputs": [
    {
     "name": "stdout",
     "output_type": "stream",
     "text": [
      "\n",
      ". timer off 1\n",
      "The time this code runs is\n",
      "   1:      6.04 /        1 =       6.0430\n"
     ]
    }
   ],
   "source": [
    "%%stata -o mix_it\n",
    "timer on 1\n",
    "set seed 100\n",
    "capture program drop mcprog_mix\n",
    "        program mcprog_mix\n",
    "        clear\n",
    "        drawnorm alpha_i, n(200)\n",
    "        gen i = _n\n",
    "        expand 5\n",
    "        bys i: g t = _n \n",
    "        gen trend = t*i \n",
    "            * individual specific trand   \n",
    "        drawnorm nu_it e_it, n(1000)\n",
    "        g x_it = nu_it + alpha_i + trend \n",
    "            * NOW: x_it is correlated with a linear specific term\n",
    "        g y_it = 3 + alpha_i + 2*x_it + trend + e_it \n",
    "        xtset i t\n",
    "        g dx_it = d.x_it\n",
    "        g dy_it = d.y_it\n",
    "        xtreg dy_it dx_it, fe \n",
    "        drop nu_it alpha_i e_it dy_it dx_it y_it x_it\n",
    "end\n",
    "        simulate _b _se, nodots nolegend  reps(100): mcprog_mix\n",
    "        rename _b_dx_it beta_mix_it\n",
    "        rename _se_dx_it se_mix_it\n",
    "        keep beta_mix_it se_mix_it\n",
    "        \n",
    "timer off 1\n",
    "display \"The time this code runs is\"\n",
    "timer list 1"
   ]
  },
  {
   "cell_type": "markdown",
   "metadata": {},
   "source": [
    "### 2.5.4 FD-FD (mix) Estimation"
   ]
  },
  {
   "cell_type": "code",
   "execution_count": 29,
   "metadata": {
    "collapsed": false
   },
   "outputs": [
    {
     "name": "stdout",
     "output_type": "stream",
     "text": [
      "\n",
      ". timer off 1\n",
      "The time this code runs is\n",
      "   1:      1.93 /        1 =       1.9330\n"
     ]
    }
   ],
   "source": [
    "%%stata -o pure_it\n",
    "timer on 1\n",
    "set seed 100\n",
    "capture program drop mcprog_pure\n",
    "        program mcprog_pure\n",
    "        clear\n",
    "        drawnorm alpha_i, n(200)\n",
    "        gen i = _n \n",
    "        expand 5\n",
    "        bys i: g t = _n \n",
    "        gen trend = t*i \n",
    "            * individual specific trand   \n",
    "        drawnorm nu_it e_it, n(1000)\n",
    "        g x_it = nu_it + alpha_i + trend \n",
    "            * NOW: x_it is correlated with a linear specific term\n",
    "        g y_it = 3 + alpha_i + 2*x_it + trend + e_it \n",
    "        xtset i t\n",
    "        g d2x_it = d2.x_it\n",
    "        g d2y_it = d2.y_it\n",
    "        reg d2y_it d2x_it, \n",
    "        drop nu_it alpha_i e_it y_it x_it d2y_it d2x_it\n",
    "end\n",
    "        simulate _b _se, nodots nolegend  reps(100): mcprog_pure\n",
    "        rename _b_d2x_it beta_pure_it\n",
    "        rename _se_d2x_it se_pure_it\n",
    "        keep beta_pure_it se_pure_it\n",
    "        \n",
    "timer off 1\n",
    "display \"The time this code runs is\"\n",
    "timer list 1"
   ]
  },
  {
   "cell_type": "markdown",
   "metadata": {},
   "source": [
    "###  2.4.4. Comparison of results"
   ]
  },
  {
   "cell_type": "code",
   "execution_count": 30,
   "metadata": {
    "collapsed": false
   },
   "outputs": [
    {
     "name": "stdout",
     "output_type": "stream",
     "text": [
      "            FE        FD       mix      pure\n",
      "Beta  2.999957  2.999481  2.004183  2.002594\n",
      "SE    0.000272  0.001220  0.040986  0.041070\n"
     ]
    }
   ],
   "source": [
    "############################ Regression Results with individual specific linear trend\n",
    "# FE Regression Results\n",
    "fe_mean_it = fe_it.mean()\n",
    "beta_fe_it = fe_mean_it[0]\n",
    "se_fe_it = fe_mean_it[1]\n",
    "# FD Regression Results\n",
    "fd_mean_it = fd_it.mean()\n",
    "beta_fd_it = fd_mean_it[0]\n",
    "se_fd_it = fd_mean_it[1]\n",
    "# Mix Regression Results\n",
    "mix_mean_it = mix_it.mean()\n",
    "beta_mix_it = mix_mean_it[0]\n",
    "se_mix_it = mix_mean_it[1]\n",
    "# Pure Regression Results\n",
    "pure_mean_it = pure_it.mean()\n",
    "beta_pure_it = pure_mean_it[0]\n",
    "se_pure_it = pure_mean_it[1]\n",
    "\n",
    "\n",
    "results_inditrend_beta = np.array([beta_fe_it, beta_fd_it, beta_mix_it, beta_pure_it])\n",
    "results_inditrend_se = np.array([se_fe_it, se_fd_it, se_mix_it, se_pure_it])\n",
    "results_inditrend = np.mat([results_inditrend_beta, results_inditrend_se]) \n",
    "results_inditrend = pd.DataFrame(results_inditrend)\n",
    "results_inditrend.index = [\"Beta\", \"SE\"]\n",
    "results_inditrend.columns = [ \"FE\", \"FD\", \"mix\", \"pure\"]\n",
    "print results_inditrend"
   ]
  },
  {
   "cell_type": "markdown",
   "metadata": {},
   "source": [
    ">The results confirm (unsurprisingly) the bad results of the FE. Now, also the FD is not capable to control for the trend within $x_{it}$. Only unbiased estimations are obtained by _mix_ and _pure_. The results are the same as before (remember: same seed and the only difference is canceled out). After checking that we really changed the code, it can be concluded that for the random-trend model it does not matter whether the trend is constant or individual specific.\n",
    "\n",
    "> In this easy example it further seems that the double difference (_pure_) is more robust, i.e. closer to the true value. Thereby the example is in favor to use the _pure_ rather than the _mix_ random-trend method. Also the time point, the _pure_ is much faster. Only the standard error suggest to use _mix_.\n",
    "\n",
    "<a id='MCNonLinTrend'></a> \n",
    "\n",
    "# 2.6. Monte Carlo study with nonlinear individual specific trends \n",
    "\n",
    "We will further check two cases in which the trend is non-linear. The motivation is to see if one of the random-trend methods performs better even though the baseline assumption of a linear trend does not hold. Therefore we will use an exponential individual specific trend and a log individual specific trend. \n",
    "\n",
    "Here we will not include the FE estimation anymore, because it preforms equally bad or worse than the FD. The FD is included to check whether the RT are of additional help.\n",
    "\n",
    "## 2.6.1 Monte Carlo study with exponential individual specific trends \n",
    "\n",
    "### 2.6.1.1 FD Estimation\n"
   ]
  },
  {
   "cell_type": "code",
   "execution_count": 31,
   "metadata": {
    "collapsed": false
   },
   "outputs": [
    {
     "name": "stdout",
     "output_type": "stream",
     "text": [
      "\n",
      "The time this code runs is\n",
      "   1:      1.92 /        1 =       1.9150\n"
     ]
    }
   ],
   "source": [
    "%%stata -o fd_exp\n",
    "timer on 1\n",
    "set seed 100\n",
    "capture program drop mcprog_fe\n",
    "        program mcprog_fe\n",
    "        clear\n",
    "        drawnorm alpha_i, n(200)\n",
    "        gen i = _n \n",
    "        expand 5\n",
    "        bys i: g t = _n \n",
    "        gen trend = exp(t*i/100) \n",
    "            * exponential individual specific trand   \n",
    "            * We devide by 100, because otherwise the values of the trend would have been to high at the end\n",
    "            * Thereby it would have dominated the whole term, in our case resulting in no variation between the replications\n",
    "        drawnorm nu_it e_it, n(1000)\n",
    "        g x_it = nu_it + alpha_i + trend \n",
    "        g y_it = 3 + alpha_i + 2*x_it + trend + e_it \n",
    "        xtset i t\n",
    "        g dx_it = d.x_it\n",
    "        g dy_it = d.y_it\n",
    "        reg dy_it dx_it, \n",
    "        drop nu_it alpha_i e_it y_it x_it dy_it dx_it\n",
    "end\n",
    "        simulate _b _se, nodots nolegend  reps(100): mcprog_fe\n",
    "        rename _b_dx_it beta_fd_exp\n",
    "        rename _se_dx_it se_fd_exp\n",
    "        keep beta_fd_exp se_fd_exp\n",
    "timer off 1\n",
    "display \"The time this code runs is\"\n",
    "timer list 1"
   ]
  },
  {
   "cell_type": "markdown",
   "metadata": {},
   "source": [
    "### 2.6.1.2 FD-FE (mix) Estimation"
   ]
  },
  {
   "cell_type": "code",
   "execution_count": 32,
   "metadata": {
    "collapsed": false
   },
   "outputs": [
    {
     "name": "stdout",
     "output_type": "stream",
     "text": [
      "\n",
      ". timer off 1\n",
      "The time this code runs is\n",
      "   1:      5.70 /        1 =       5.7010\n"
     ]
    }
   ],
   "source": [
    "%%stata -o mix_exp\n",
    "timer on 1\n",
    "set seed 100\n",
    "capture program drop mcprog_mix\n",
    "        program mcprog_mix\n",
    "        clear\n",
    "        drawnorm alpha_i, n(200)\n",
    "        gen i = _n \n",
    "        expand 5\n",
    "        bys i: g t = _n \n",
    "        gen trend = exp(t*i/100) \n",
    "            * exponential individual specific trand   \n",
    "        drawnorm nu_it e_it, n(1000)\n",
    "        g x_it = nu_it + alpha_i + trend \n",
    "        g y_it = 3 + alpha_i + 2*x_it + trend + e_it \n",
    "        xtset i t\n",
    "        g dx_it = d.x_it\n",
    "        g dy_it = d.y_it\n",
    "        xtreg dy_it dx_it, fe \n",
    "        drop nu_it alpha_i e_it dy_it dx_it y_it x_it\n",
    "end\n",
    "        simulate _b _se, nodots nolegend  reps(100): mcprog_mix\n",
    "        rename _b_dx_it beta_mix_exp\n",
    "        rename _se_dx_it se_mix_exp\n",
    "        keep beta_mix_exp se_mix_exp\n",
    "        \n",
    "timer off 1\n",
    "display \"The time this code runs is\"\n",
    "timer list 1"
   ]
  },
  {
   "cell_type": "markdown",
   "metadata": {},
   "source": [
    "### 2.6.1.3 FD-FD (pure) Estimation"
   ]
  },
  {
   "cell_type": "code",
   "execution_count": 33,
   "metadata": {
    "collapsed": false
   },
   "outputs": [
    {
     "name": "stdout",
     "output_type": "stream",
     "text": [
      "\n",
      ".         The time this code runs is\n",
      "   1:      1.95 /        1 =       1.9510\n"
     ]
    }
   ],
   "source": [
    "%%stata -o pure_exp\n",
    "timer on 1\n",
    "set seed 100\n",
    "capture program drop mcprog_pure\n",
    "        program mcprog_pure\n",
    "        clear\n",
    "        drawnorm alpha_i, n(200)\n",
    "        gen i = _n \n",
    "        expand 5\n",
    "        bys i: g t = _n \n",
    "        gen trend = exp(t*i/100) \n",
    "            * exponential individual specific trand   \n",
    "        drawnorm nu_it e_it, n(1000)\n",
    "        g x_it = nu_it + alpha_i + trend \n",
    "        g y_it = 3 + alpha_i + 2*x_it + trend + e_it \n",
    "        xtset i t\n",
    "        g d2x_it = d2.x_it\n",
    "        g d2y_it = d2.y_it\n",
    "        reg d2y_it d2x_it, \n",
    "        drop nu_it alpha_i e_it y_it x_it d2y_it d2x_it\n",
    "end\n",
    "        simulate _b _se, nodots nolegend  reps(100): mcprog_pure\n",
    "        rename _b_d2x_it beta_pure_exp\n",
    "        rename _se_d2x_it se_pure_exp\n",
    "        keep beta_pure_exp se_pure_exp\n",
    "            * exp for exponential\n",
    "        \n",
    "timer off 1\n",
    "display \"The time this code runs is\"\n",
    "timer list 1"
   ]
  },
  {
   "cell_type": "markdown",
   "metadata": {},
   "source": [
    "###  2.6.1.4 Comparison of results"
   ]
  },
  {
   "cell_type": "code",
   "execution_count": 34,
   "metadata": {
    "collapsed": false
   },
   "outputs": [
    {
     "name": "stdout",
     "output_type": "stream",
     "text": [
      "            FD       mix      pure\n",
      "Beta  3.000002  3.000002  2.999999\n",
      "SE    0.000034  0.000045  0.000069\n"
     ]
    }
   ],
   "source": [
    "############################ Regression Results with exponential individual specific linear trend\n",
    "# FD Regression Results\n",
    "fd_mean_exp = fd_exp.mean()\n",
    "beta_fd_exp = fd_mean_exp[0]\n",
    "se_fd_exp = fd_mean_exp[1]\n",
    "# Mix Regression Results\n",
    "mix_mean_exp = mix_exp.mean()\n",
    "beta_mix_exp = mix_mean_exp[0]\n",
    "se_mix_exp = mix_mean_exp[1]\n",
    "# Pure Regression Results\n",
    "pure_mean_exp = pure_exp.mean()\n",
    "beta_pure_exp = pure_mean_exp[0]\n",
    "se_pure_exp = pure_mean_exp[1]\n",
    "\n",
    "\n",
    "results_exptrend_beta = np.array([beta_fd_exp, beta_mix_exp, beta_pure_exp])\n",
    "results_exptrend_se = np.array([se_fd_exp, se_mix_exp, se_pure_exp])\n",
    "results_exptrend = np.mat([results_exptrend_beta, results_exptrend_se]) \n",
    "results_exptrend = pd.DataFrame(results_exptrend)\n",
    "results_exptrend.index = [\"Beta\", \"SE\"]\n",
    "results_exptrend.columns = [\"FD\", \"mix\", \"pure\"]\n",
    "print results_exptrend"
   ]
  },
  {
   "cell_type": "markdown",
   "metadata": {},
   "source": [
    "> Here we have the case that the trend increases individual specific exponential over time, i.e. the trend is a convex function.\n",
    "Both RT methods are biased, and the difference between the two is at the 6. digit, so obsolete from our point of view. Surprisingly to us is, that there is no difference between the normal FD and the RT's. This means that if the trend increases exponential, the random trend method does not improve the estimation. I would have expected that the random-trend model comes a bite closer to the true, but in this example it does not. Thus, we just get higher standard errors without the trade of more robust results. \n",
    "\n",
    "<a id='MCNLogTrend'></a>\n",
    "\n",
    "## 2.6.2 Monte Carlo study with log individual specific trends \n",
    "\n",
    "### 2.6.2.1 FD Estimation"
   ]
  },
  {
   "cell_type": "code",
   "execution_count": 35,
   "metadata": {
    "collapsed": false
   },
   "outputs": [
    {
     "name": "stdout",
     "output_type": "stream",
     "text": [
      "\n",
      "The time this code runs is\n",
      "   1:      1.90 /        1 =       1.9010\n"
     ]
    }
   ],
   "source": [
    "%%stata -o fd_log\n",
    "timer on 1\n",
    "set seed 100\n",
    "capture program drop mcprog_fe\n",
    "        program mcprog_fe\n",
    "        clear\n",
    "        drawnorm alpha_i, n(200)\n",
    "        gen i = _n \n",
    "        expand 5\n",
    "        bys i: g t = _n \n",
    "        gen trend = log(t*i) \n",
    "            * logarithm !!! \n",
    "        drawnorm nu_it e_it, n(1000)\n",
    "        g x_it = nu_it + alpha_i + trend \n",
    "        g y_it = 3 + alpha_i + 2*x_it + trend + e_it \n",
    "        xtset i t\n",
    "        g dx_it = d.x_it\n",
    "        g dy_it = d.y_it\n",
    "        reg dy_it dx_it\n",
    "        drop nu_it alpha_i e_it y_it x_it dy_it dx_it\n",
    "end\n",
    "        simulate _b _se, nodots nolegend  reps(100): mcprog_fe\n",
    "        rename _b_dx_it beta_fd_log\n",
    "        rename _se_dx_it se_fd_log\n",
    "        keep beta_fd_log se_fd_log\n",
    "timer off 1\n",
    "display \"The time this code runs is\"\n",
    "timer list 1"
   ]
  },
  {
   "cell_type": "markdown",
   "metadata": {},
   "source": [
    "###  2.6.2.2. FD-FE (mix) Estimation"
   ]
  },
  {
   "cell_type": "code",
   "execution_count": 36,
   "metadata": {
    "collapsed": false
   },
   "outputs": [
    {
     "name": "stdout",
     "output_type": "stream",
     "text": [
      "\n",
      ". timer off 1\n",
      "The time this code runs is\n",
      "   1:      5.97 /        1 =       5.9690\n"
     ]
    }
   ],
   "source": [
    "%%stata -o mix_log\n",
    "timer on 1\n",
    "set seed 100\n",
    "capture program drop mcprog_mix\n",
    "        program mcprog_mix\n",
    "        clear\n",
    "        drawnorm alpha_i, n(200)\n",
    "        gen i = _n \n",
    "        expand 5\n",
    "        bys i: g t = _n \n",
    "        gen trend = log(t*i) \n",
    "            * logarithm!\n",
    "        drawnorm nu_it e_it, n(1000)\n",
    "        g x_it = nu_it + alpha_i + trend \n",
    "        g y_it = 3 + alpha_i + 2*x_it + trend + e_it \n",
    "        xtset i t\n",
    "        g dx_it = d.x_it\n",
    "        g dy_it = d.y_it\n",
    "        xtreg dy_it dx_it, fe \n",
    "            * cluster(i)\n",
    "        drop nu_it alpha_i e_it dy_it dx_it y_it x_it\n",
    "end\n",
    "        simulate _b _se, nodots nolegend  reps(100): mcprog_mix\n",
    "        rename _b_dx_it beta_mix_log\n",
    "        rename _se_dx_it se_mix_log\n",
    "        keep beta_mix_log se_mix_log\n",
    "        \n",
    "timer off 1\n",
    "display \"The time this code runs is\"\n",
    "timer list 1"
   ]
  },
  {
   "cell_type": "markdown",
   "metadata": {},
   "source": [
    "###  2.6.2.3. FD-FD (pure) Estimation"
   ]
  },
  {
   "cell_type": "code",
   "execution_count": 37,
   "metadata": {
    "collapsed": false
   },
   "outputs": [
    {
     "name": "stdout",
     "output_type": "stream",
     "text": [
      "\n",
      ". timer off 1\n",
      "The time this code runs is\n",
      "   1:      2.01 /        1 =       2.0060\n"
     ]
    }
   ],
   "source": [
    "%%stata -o pure_log\n",
    "timer on 1\n",
    "set seed 100\n",
    "capture program drop mcprog_pure\n",
    "        program mcprog_pure\n",
    "        clear\n",
    "        drawnorm alpha_i, n(200)\n",
    "        gen i = _n \n",
    "        expand 5\n",
    "        bys i: g t = _n \n",
    "        gen trend = log(t*i) \n",
    "            * logarithm! \n",
    "        drawnorm nu_it e_it, n(1000)\n",
    "        g x_it = nu_it + alpha_i + trend \n",
    "        g y_it = 3 + alpha_i + 2*x_it + trend + e_it \n",
    "        xtset i t\n",
    "        g d2x_it = d2.x_it\n",
    "        g d2y_it = d2.y_it\n",
    "        reg d2y_it d2x_it, \n",
    "        drop nu_it alpha_i e_it y_it x_it d2y_it d2x_it\n",
    "end\n",
    "        simulate _b _se, nodots nolegend  reps(100): mcprog_pure\n",
    "        rename _b_d2x_it beta_pure_log\n",
    "        rename _se_d2x_it se_pure_log\n",
    "        keep beta_pure_log se_pure_log\n",
    "        \n",
    "timer off 1\n",
    "display \"The time this code runs is\"\n",
    "timer list 1\n",
    "    "
   ]
  },
  {
   "cell_type": "markdown",
   "metadata": {},
   "source": [
    "###  2.6.2.4 Comparison of results"
   ]
  },
  {
   "cell_type": "code",
   "execution_count": 38,
   "metadata": {
    "collapsed": false
   },
   "outputs": [
    {
     "name": "stdout",
     "output_type": "stream",
     "text": [
      "            FD       mix      pure\n",
      "Beta  2.020059  2.021325  2.004355\n",
      "SE    0.035496  0.040955  0.041070\n"
     ]
    }
   ],
   "source": [
    "############################ Regression Results with log individual specific linear trend\n",
    "# FD Regression Results\n",
    "fd_mean_log = fd_log.mean()\n",
    "beta_fd_log = fd_mean_log[0]\n",
    "se_fd_log = fd_mean_log[1]\n",
    "# Mix Regression Results\n",
    "mix_mean_log = mix_log.mean()\n",
    "beta_mix_log = mix_mean_log[0]\n",
    "se_mix_log = mix_mean_log[1]\n",
    "# Pure Regression Results\n",
    "pure_mean_log = pure_log.mean()\n",
    "beta_pure_log = pure_mean_log[0]\n",
    "se_pure_log = pure_mean_log[1]\n",
    "\n",
    "\n",
    "results_logtrend_beta = np.array([beta_fd_log, beta_mix_log, beta_pure_log])\n",
    "results_logtrend_se = np.array([se_fd_log, se_mix_log, se_pure_log])\n",
    "results_logtrend = np.mat([results_logtrend_beta, results_logtrend_se]) \n",
    "results_logtrend = pd.DataFrame(results_logtrend)\n",
    "results_logtrend.index = [\"Beta\", \"SE\"]\n",
    "results_logtrend.columns = [\"FD\", \"mix\", \"pure\"]\n",
    "print results_logtrend"
   ]
  },
  {
   "cell_type": "markdown",
   "metadata": {},
   "source": [
    "> For the log individual specific trend we have the case that the trend is upward sloping, but the marginal increase decreases, i.e. we have concave trends.\n",
    "All three methods are good in capturing the _unobserved_ trend component. As for the constant trend, the _mix_ performs worst, FD second and _pure_ performs best.\n",
    "\n",
    "> Again, FD is capable to solve the endogeneity problem and there is no need for a random-trend model."
   ]
  },
  {
   "cell_type": "markdown",
   "metadata": {
    "collapsed": true
   },
   "source": [
    "<a id='MCNonFEFD'></a> "
   ]
  },
  {
   "cell_type": "markdown",
   "metadata": {},
   "source": [
    "## 2.6.3. The within-transformation first-step \n",
    "We discussed in the beginning that it does not make sense theoretically to first transform the data using the within-transformation and then to use the first-differences. For the canceling of the trend, it was crucial to take first the first-difference. We will verify here with the Monte Carlo framework that this produces biased results.\n",
    "\n",
    "### 2.6.3.1 FE-FE Estimation"
   ]
  },
  {
   "cell_type": "code",
   "execution_count": 39,
   "metadata": {
    "collapsed": false
   },
   "outputs": [
    {
     "name": "stdout",
     "output_type": "stream",
     "text": [
      "\n",
      ". timer off 1\n",
      "The time this codes run is\n",
      "   1:      6.45 /        1 =       6.4540\n"
     ]
    }
   ],
   "source": [
    "%%stata -o fe_fe\n",
    "timer on 1\n",
    "set seed 100\n",
    "capture program drop mcprog_fe\n",
    "        program mcprog_fe\n",
    "        clear\n",
    "        drawnorm alpha_i, n(200)\n",
    "        gen i = _n \n",
    "        expand 5\n",
    "        bys i: g t = _n \n",
    "        gen trend = t*i  \n",
    "        drawnorm nu_it e_it, n(1000)\n",
    "        g x_it = nu_it + alpha_i + trend \n",
    "        g y_it = 3 + alpha_i + 2*x_it + trend + e_it \n",
    "        xtset i t\n",
    "        xtdata i t x_it y_it, fe clear \n",
    "            * preforms the within-transformation, so we can be sure that it is really the first thing in the regression\n",
    "        xtreg y_it x_it, fe \n",
    "            *  Random-Trend (FE-FD)\n",
    "        drop y_it x_it\n",
    "end\n",
    "        simulate _b, nodots nolegend  reps(100): mcprog_fe\n",
    "        rename _b_x_it beta_fe_fe\n",
    "        keep beta_fe_fe \n",
    "            * it = fixed-effects\n",
    "timer off 1\n",
    "display \"The time this codes run is\"\n",
    "timer list 1\n",
    "\n"
   ]
  },
  {
   "cell_type": "markdown",
   "metadata": {},
   "source": [
    "### 2.6.3.2 FE-FD Estimation"
   ]
  },
  {
   "cell_type": "code",
   "execution_count": 40,
   "metadata": {
    "collapsed": false
   },
   "outputs": [
    {
     "name": "stdout",
     "output_type": "stream",
     "text": [
      "\n",
      ". timer off 1\n",
      "The time this code runs is\n",
      "   1:      3.45 /        1 =       3.4530\n"
     ]
    }
   ],
   "source": [
    "%%stata -o fe_fd\n",
    "timer on 1\n",
    "set seed 100\n",
    "capture program drop mcprog_fe\n",
    "        program mcprog_fe\n",
    "        clear\n",
    "        drawnorm alpha_i, n(200)\n",
    "        gen i = _n \n",
    "        expand 5\n",
    "        bys i: g t = _n \n",
    "        gen trend = t*i  \n",
    "        drawnorm nu_it e_it, n(1000)\n",
    "        g x_it = nu_it + alpha_i + trend \n",
    "        g y_it = 3 + alpha_i + 2*x_it + trend + e_it \n",
    "        xtset i t\n",
    "        xtdata i t x_it y_it, fe clear \n",
    "            * preforms the within-transformation, so we can be sure that it is really the first thing in the regression\n",
    "        xtset i t \n",
    "            * to sort the data\n",
    "        g dx_it = d.x_it\n",
    "        g dy_it = d.y_it\n",
    "        reg dy_it dx_it,  \n",
    "            * Random-Trend (FE-FD)\n",
    "        drop y_it x_it\n",
    "end\n",
    "        simulate _b, nodots nolegend  reps(100): mcprog_fe\n",
    "        rename _b_dx_it beta_fe_fd\n",
    "        keep beta_fe_fd \n",
    "            * it = individual trend\n",
    "timer off 1\n",
    "display \"The time this code runs is\"\n",
    "timer list 1"
   ]
  },
  {
   "cell_type": "markdown",
   "metadata": {},
   "source": [
    "### 2.6.3.3 Comparison of results"
   ]
  },
  {
   "cell_type": "code",
   "execution_count": 41,
   "metadata": {
    "collapsed": false
   },
   "outputs": [
    {
     "name": "stdout",
     "output_type": "stream",
     "text": [
      "           Beta\n",
      "FE-FE  2.999957\n",
      "FE-FD  2.999481\n"
     ]
    }
   ],
   "source": [
    "fe_fe_mean = fe_fe.mean()\n",
    "fe_fd_mean = fe_fd.mean()\n",
    "\n",
    "results_within_beta = np.mat([fe_fe_mean, fe_fd_mean])\n",
    "results_within = pd.DataFrame(results_within_beta)\n",
    "results_within.index = [\"FE-FE\", \"FE-FD\"]\n",
    "results_within.columns = [\"Beta\"]\n",
    "print results_within\n",
    "\n"
   ]
  },
  {
   "cell_type": "markdown",
   "metadata": {},
   "source": [
    "> Results are just as biased to the normal FE. Doing the second transformation was not helpful at all, i.e. the results confirm the theoretical model. We suppress the standard errors because the results are inconsistent anyway and are in line with our expectations."
   ]
  },
  {
   "cell_type": "markdown",
   "metadata": {},
   "source": [
    "-------------------------------\n",
    "<a id='MCPythonRT'></a> "
   ]
  },
  {
   "cell_type": "markdown",
   "metadata": {},
   "source": [
    "# 3. Random Trend Simulation using Python\n",
    "\n",
    "Since the course requires not only a strong focus on simulation within Jupyter Notebook, but is also about employing free software packages (especially python), we will now do a similar simulation using Python. \n",
    "\n",
    "As before, we will first do an example with just one simulation to verify that the code is working properly. In a second step, we will run the same simulation with 1,000 replications.\n",
    "\n",
    "Following the conclusions from our benchmark results with _ipstata_, we will only look into the case of the linear individual specific trend. If we get similar results here, results should hold for the others as well. Besides, the RT estimation was our main question of interest in the first place.\n",
    "\n",
    "There are some packages which can be used to run regressions, but we did not find a package that explicitly runs panel-data transformations. Since we had to write the transformation on our own, we decided calculate the regression ourselves as well. "
   ]
  },
  {
   "cell_type": "markdown",
   "metadata": {},
   "source": [
    "<a id='MCPythonDGP'></a> "
   ]
  },
  {
   "cell_type": "markdown",
   "metadata": {
    "collapsed": false
   },
   "source": [
    "###  3.1. DGP"
   ]
  },
  {
   "cell_type": "code",
   "execution_count": 42,
   "metadata": {
    "collapsed": false
   },
   "outputs": [
    {
     "name": "stdout",
     "output_type": "stream",
     "text": [
      "     Individual  Time   alpha_i  trend         y_it        x_it      e_it\n",
      "0             1     1  1.231020      1     6.325923    0.257539  0.579825\n",
      "1             1     2  1.231020      2     8.365440    1.714068 -1.293716\n",
      "2             1     3  1.231020      3    19.523345    6.098264  0.095796\n",
      "3             1     4  1.231020      4    17.783541    4.726630  0.099260\n",
      "4             1     5  1.231020      5    20.483395    5.176770  0.898834\n",
      "5             2     1 -0.959304      2     5.751283    1.105531 -0.500475\n",
      "6             2     2 -0.959304      4     7.649310    1.662953 -1.717291\n",
      "7             2     3 -0.959304      6    17.473313    5.281484 -1.130350\n",
      "8             2     4 -0.959304      8    25.313228    7.953298 -0.634064\n",
      "9             2     5 -0.959304     10    30.254796    8.740445  0.733210\n",
      "10            3     1 -0.695719      3    10.855166    3.000533 -0.450181\n",
      "11            3     2 -0.695719      6    15.530899    4.047516 -0.868415\n",
      "12            3     3 -0.695719      9    22.294881    6.308708 -1.626816\n",
      "13            3     4 -0.695719     12    38.344326   11.723338  0.593368\n",
      "14            3     5 -0.695719     15    46.778665   14.713686  0.047012\n",
      "15            4     1 -0.580704      4    14.482943    3.263278  1.537092\n",
      "16            4     2 -0.580704      8    21.488077    6.308143 -1.547505\n",
      "17            4     3 -0.580704     12    36.301013   11.776245 -1.670772\n",
      "18            4     4 -0.580704     16    47.600711   14.585693  0.010029\n",
      "19            4     5 -0.580704     20    63.268859   20.462973 -0.076383\n",
      "20            5     1 -0.752365      5    16.053130    4.277168  0.251159\n",
      "21            5     2 -0.752365     10    29.154949    8.498414 -0.089514\n",
      "22            5     3 -0.752365     15    49.446137   15.869191  0.460119\n",
      "23            5     4 -0.752365     20    65.422729   21.157418  0.860259\n",
      "24            5     5 -0.752365     25    74.278408   23.867795 -0.704817\n",
      "25            6     1  0.652509      6    19.864507    5.965329 -1.718661\n",
      "26            6     2  0.652509     12    37.027022   11.521487 -1.668461\n",
      "27            6     3  0.652509     18    59.442739   18.354065  1.082099\n",
      "28            6     4  0.652509     24    75.542580   24.220908 -0.551746\n",
      "29            6     5  0.652509     30    95.707650   30.873930  0.307281\n",
      "..          ...   ...       ...    ...          ...         ...       ...\n",
      "970         195     1 -0.923052    195   588.110262  194.520647  1.992021\n",
      "971         195     2 -0.923052    390  1167.826035  388.027642 -0.306197\n",
      "972         195     3 -0.923052    585  1755.564608  584.745837 -1.004014\n",
      "973         195     4 -0.923052    780  2342.247864  780.433847 -0.696778\n",
      "974         195     5 -0.923052    975  2924.487530  974.113337 -0.816092\n",
      "975         196     1 -0.898673    196   587.378617  194.900738 -0.524185\n",
      "976         196     2 -0.898673    392  1175.116658  390.603362 -0.191393\n",
      "977         196     3 -0.898673    588  1766.683211  587.867877  0.846130\n",
      "978         196     4 -0.898673    784  2351.911347  782.846634  0.116752\n",
      "979         196     5 -0.898673    980  2934.900303  977.597875 -2.396775\n",
      "980         197     1 -0.791207    197   593.053700  196.556534  0.731840\n",
      "981         197     2 -0.791207    394  1184.110745  393.960281 -0.018610\n",
      "982         197     3 -0.791207    591  1774.851241  590.467077  0.708294\n",
      "983         197     4 -0.791207    788  2363.287608  787.095196 -1.111576\n",
      "984         197     5 -0.791207    985  2954.960148  983.457149  0.837056\n",
      "985         198     1  0.323578    198   596.127421  198.379440 -1.955039\n",
      "986         198     2  0.323578    396  1191.272237  395.574889  0.798881\n",
      "987         198     3  0.323578    594  1786.737616  594.315952  0.782134\n",
      "988         198     4  0.323578    792  2375.079582  790.090973 -0.425943\n",
      "989         198     5  0.323578    990  2975.305674  990.450324  1.081447\n",
      "990         199     1 -0.882216    199   596.360642  197.939212 -0.635567\n",
      "991         199     2 -0.882216    398  1199.439110  398.511005  2.299315\n",
      "992         199     3 -0.882216    597  1790.482474  596.312870 -1.261050\n",
      "993         199     4 -0.882216    796  2386.427902  794.511996 -0.713874\n",
      "994         199     5 -0.882216    995  2984.096897  992.958971  1.061170\n",
      "995         200     1 -1.720448    200   596.766571  197.061902  1.363215\n",
      "996         200     2 -1.720448    400  1195.852105  396.826082  0.920389\n",
      "997         200     3 -1.720448    600  1794.915629  596.302288  1.031502\n",
      "998         200     4 -1.720448    800  2395.630123  796.691752  0.967067\n",
      "999         200     5 -1.720448   1000  2994.430074  997.055166 -0.959810\n",
      "\n",
      "[1000 rows x 7 columns]\n"
     ]
    }
   ],
   "source": [
    "random.seed(100) # Equivalent to `set seed 100`\n",
    "############################################### Somehow the seed does not work\n",
    "\n",
    "# For the coding part, we will set some variables which was not necessary in stata:\n",
    "n = 200 # in python there is no need (or not allowed) to write `generate`\n",
    "T = 5\n",
    "N = n * T\n",
    "\n",
    "alpha_i = np.random.normal(0, 1, 200) # Equivalent to `drawnorm alpha_i, n(200)`\n",
    "alpha_i = np.repeat(alpha_i,5) # Equivalent to `expand 5`  \n",
    "\n",
    "i = np.arange(n) + 1 # Equivalent to `gen i = _n`  # +1 because python would start with 0\n",
    "i = np.repeat(i,T) # Equivalent to `expand 5`  \n",
    "\n",
    "t = np.arange(5) + 1 # Equivalent to bys i: g t = _n \n",
    "t = np.tile(t,200) # Equivalent to `expand 5`  \n",
    "\n",
    "trend = t*i # <=> `gen trend = t*i`\n",
    "\n",
    "mean = [0, 0]\n",
    "cov = [[1, 0], [0, 1]]\n",
    "nu_it, e_it = np.random.multivariate_normal(mean, cov, 1000).T # <=> `drawnorm nu_it e_it, n(1000)`\n",
    "\n",
    "x_it = (nu_it + alpha_i + trend).T # <=> `g x_it = nu_it + alpha_i + trend`\n",
    "# Since we will transform the data at least ones, we don't have to include an intercept in the first place.\n",
    "\n",
    "y_it = (3 + alpha_i + 2*x_it + trend + e_it).T # <=> `g y_it = 3 + alpha_i + 2*x_it + trend + e_it `\n",
    "\n",
    "m = np.matrix((i, t, alpha_i, trend, y_it, x_it, e_it))\n",
    "mt = m.transpose()\n",
    "df = pd.DataFrame(mt)\n",
    "df.columns = [\"Individual\", \"Time\", \"alpha_i\", \"trend\", \"y_it\", \"x_it\", \"e_it\"]\n",
    "print(df)\n"
   ]
  },
  {
   "cell_type": "markdown",
   "metadata": {},
   "source": [
    "> The data generating process is here now down completely using open source packages (numpy). We print the data frame to have a quick overview whether the the DGP was correct or not. Judging from the output, it seems that so far everything is fine.\n",
    "\n",
    "> The arising problem now however is, that our Internet research did not provide us with commands which can analyze panel data as easily as Stata can do. I.e. there is no command which is directly comparable to \n",
    "`xtset i t` and `xtreg y_it x_it, fe`. We therefor have to construct the transformations ourselves. \n",
    "\n",
    "<a id='MCPythonDataTr'></a> \n",
    "\n",
    "###  3.2. Data Transformation"
   ]
  },
  {
   "cell_type": "code",
   "execution_count": 43,
   "metadata": {
    "collapsed": false
   },
   "outputs": [],
   "source": [
    "\n",
    "# First and double Difference for x:\n",
    "x_reshape = np.reshape(np.ravel(x_it), (200, 5)).T # reshape x-variable to wide form for the transformation\n",
    "    # To verify the reshape command, comment out the next to lines. We need 200 columsn with each 5 rows for 200 individuals haven 5 time periods\n",
    "    #x_df = pd.DataFrame(x_reshape)\n",
    "    #print x_df.head(n=5) # One can see that we have now 200 columns with each 5 time periods\n",
    "dx = np.zeros(x_reshape.shape) #Constructing a zero variable for the first-difference command which is following (this is necessary)\n",
    "dx[1:] = x_reshape[1:] - x_reshape[:-1] # First-Difference\n",
    "dx = np.delete(dx,(0), axis=0) # Dropping the first period which does not contain any information anymore.\n",
    "    # Every dirst-difference means that we will lose one time period.\n",
    "    #dx = numpy.delete(dx,(0), axis=1)\n",
    "d2x = np.zeros(dx.shape) #Constructing a zero variable for the first-difference command which is following (this is necessary)\n",
    "d2x[1:] = dx[1:] - dx[:-1] # Second-Difference\n",
    "d2x = np.delete(d2x,(0), axis=0)\n",
    "    #For verification command out the next lines:\n",
    "    #dx_df = pd.DataFrame(dx)\n",
    "    #print dx_df.head(n=5) # The first entry is now zero for all zero because we can't take the first-difference from the starting value. Comparing dx_df and x_df one can clearly see that the first-differnce worked well.\n",
    "    # Now we have the reshape the data again in long form for the regression\n",
    "dx_reshape = dx # result is stored for the within-transformation    \n",
    "dx = np.reshape(dx.T, N-n) # replacing dx with long form (to be used in a regression)\n",
    "# We have to substract n from N, because we delete one time period\n",
    "d2x = np.reshape(d2x.T, N-2*n)\n",
    "# Same here, just that now we deleted two time periods.\n",
    "    #dx[:11] #to check if transition worked\n",
    "\n",
    "# Within-transformation for x\n",
    "dx_mean = dx_reshape.mean(axis=0) # obtaining the mean for each individual after the first-difference is done\n",
    "dx_mean_i = np.repeat(dx_mean,T-1) # for the calculation, construct a mean-matrix with same shape as the x-variable\n",
    "dx_mean_i_reshape = np.reshape(dx_mean_i.T, N-n) # Reshaping the data into long-form\n",
    "dwx = dx - dx_mean_i_reshape # Substracting the mean for the within-fransformation:\n",
    "# dwx is now constructed for the Random-Trend 2, mix    \n",
    "    \n",
    "################ Some transition for the y-variable\n",
    "y_reshape = np.reshape(np.ravel(y_it), (200, 5)).T # reshape x-variable to wide form for the transformation\n",
    "dy = np.zeros(y_reshape.shape) #Constructing a zero variable for the first-difference command which is following (this is necessary)\n",
    "dy[1:] = y_reshape[1:] - y_reshape[:-1] # First-Difference\n",
    "dy = np.delete(dy,(0), axis=0) # Dropping the first period which does not contain any information nomore.\n",
    "\n",
    "d2y = np.zeros(dy.shape) #Constructing a zero variable for the first-difference command which is following (this is necessary)\n",
    "d2y[1:] = dy[1:] - dy[:-1] # Second-Difference\n",
    "d2y = np.delete(d2y,(0), axis=0)\n",
    "dy_reshape = dy # result is stored for the within-transformation\n",
    "dy = np.reshape(dy.T, N-n)\n",
    "d2y = np.reshape(d2y.T, N-2*n)\n",
    "\n",
    "dy_mean = dy_reshape.mean(axis=0) \n",
    "dy_mean_i = np.repeat(dy_mean,T-1) \n",
    "dy_mean_i_reshape = np.reshape(dy_mean_i.T, N-n) \n",
    "dwy = dy - dy_mean_i_reshape \n",
    "# dwy is now constructed for the Random-Trend 2, mix\n",
    "\n"
   ]
  },
  {
   "cell_type": "markdown",
   "metadata": {},
   "source": [
    ">Already noting this transformation part, it does seem very reasonable to rely on Stata if one wants to analyze panel data. Surely, this code is not as efficient as possible since we just started coding, and we are certain that the code can be improved, but Stata seems so far still more convenient to us.\n",
    "\n",
    "To have a look into our data transformation, we will show some contour histograms to show how the untransformed and transformed variables are distributed.\n",
    "\n",
    "#### Relationship between untransformed $y_{it}$ and $x_{it}$"
   ]
  },
  {
   "cell_type": "markdown",
   "metadata": {
    "collapsed": false
   },
   "source": [
    "##### Convert to code to see the plot\n",
    "\n",
    "iplot([Histogram2dContour(x=x_it, y=y_it, contours=Contours(coloring='heatmap'),showlegend = (True)),\n",
    "       Scatter(x=x_it, y=y_it, mode='markers', marker=Marker(color='white', size=3, opacity=0.3))], show_link=False)"
   ]
  },
  {
   "cell_type": "markdown",
   "metadata": {},
   "source": [
    "The Contour Histogram shows the observations are distributed. A higher contour line is denoted by the change from the color blue to the color brown as shown in the legend on the right.\n",
    "\n",
    "Two things can be clearly seen in this graph: First that most of the observations are in the lower left hand corner where the color goes from blue to brown and from there it increase up to the top right hand corner.\n",
    "Secondly the trend included in the DGP is clearly seen by the almost straight line off the white dots in the graph (the actual points from the x- and y-coordinates).\n",
    "\n",
    "#### Relationship between first-differenced $\\Delta y_{it}$ and $\\Delta x_{it}$"
   ]
  },
  {
   "cell_type": "markdown",
   "metadata": {
    "collapsed": false
   },
   "source": [
    "##### Convert to code to see the plot\n",
    "\n",
    "iplot([Histogram2dContour(x=dx, y=dy, contours=Contours(coloring='heatmap')),\n",
    "       Scatter(x=dx, y=dy, mode='markers', marker=Marker(color='white', size=3, opacity=0.3))], show_link=False)"
   ]
  },
  {
   "cell_type": "markdown",
   "metadata": {},
   "source": [
    "For the first-differenced data we see that (i) we have now four regions where a lot of data points are located and (ii) that the data points in general are much closer to each other than before. Note that the axis decrease from (3000,1000) down to (600,250).\n",
    "\n",
    "We thereby clearly see how the first-difference already changed the shape of the data\n",
    "\n",
    "#### Relationship between two first-differenced $\\Delta^2 y_{it}$ and $\\Delta^2 x_{it}$ (i.e. FD-FD)"
   ]
  },
  {
   "cell_type": "markdown",
   "metadata": {
    "collapsed": false
   },
   "source": [
    "##### Convert to code to see the plot\n",
    "\n",
    "iplot([Histogram2dContour(x=d2x, y=d2y, contours=Contours(coloring='heatmap')),\n",
    "       Scatter(x=d2x, y=d2y, mode='markers', marker=Marker(color='white', size=3, opacity=0.3))], show_link=False)"
   ]
  },
  {
   "cell_type": "markdown",
   "metadata": {},
   "source": [
    "The variation in the data (unsurprisingly) decreased and the data is much more centered, having almost just one bigger region is which most of the data is located. We can further see that the observations are not ordered within a straight line anymore.\n",
    "\n",
    "#### Relationship between first-differenced and de-meand $\\Delta y'_{it}$ and $\\Delta x'_{it}$ (i.e. FD-FE)"
   ]
  },
  {
   "cell_type": "markdown",
   "metadata": {
    "collapsed": false
   },
   "source": [
    "##### Convert to code to see the plot\n",
    "\n",
    "iplot([Histogram2dContour(x=dwx, y=dwy, contours=Contours(coloring='heatmap')),\n",
    "       Scatter(x=dwx, y=dwy, mode='markers', marker=Marker(color='white', size=3, opacity=0.3))], show_link=False)"
   ]
  },
  {
   "cell_type": "markdown",
   "metadata": {},
   "source": [
    "The last contour histogram looks of the mix-approach looks very similar to the pure-approach. The contour lines however look a bit more homogeneous or less curvy. The data points are in general a bit closer to each other given that the axis are of smaller scale. At last, the data cloud seems a bit fatter and less stretched. \n",
    "\n",
    "Concluding, we can see clear differences introduced due to the different transformation technics which should be seen in the regression results later on. \n",
    "\n",
    "Now we will look at the same picture on a more granular level. We will pick only 4 individuals out of the simulation and plot the level and the two different random-trend transformations of the data. "
   ]
  },
  {
   "cell_type": "markdown",
   "metadata": {},
   "source": [
    "#### Level:"
   ]
  },
  {
   "cell_type": "markdown",
   "metadata": {
    "collapsed": false
   },
   "source": [
    "##### Convert to code to see the plot\n",
    "v = 50 # Using the individual number defined in v and the next 3 ones.\n",
    "x_df_s = pd.DataFrame(x_reshape) # Putting the data in a panda form makes it easier to take some individuals\n",
    "y_df_s = pd.DataFrame(y_reshape)\n",
    "###### Create traces\n",
    "\n",
    "trace1 = go.Scatter(\n",
    "    x = x_df_s[v].values,\n",
    "    y = y_df_s[v].values,\n",
    "    mode = 'lines+markers',\n",
    "    name = 'lines+markers'\n",
    ")\n",
    "trace2 = go.Scatter(\n",
    "    x = x_df_s[v+1].values,\n",
    "    y = y_df_s[v+1].values,\n",
    "    mode = 'lines+markers',\n",
    "    name = 'lines+markers'\n",
    ")\n",
    "trace3 = go.Scatter(\n",
    "    x = x_df_s[v+2].values,\n",
    "    y = y_df_s[v+2].values,\n",
    "    mode = 'lines+markers',\n",
    "    name = 'lines+markers'\n",
    ")\n",
    "trace4 = go.Scatter(\n",
    "    x = x_df_s[v+3].values,\n",
    "    y = y_df_s[v+3].values,\n",
    "    mode = 'lines+markers',\n",
    "    name = 'lines+markers'\n",
    ")\n",
    "trace0 = go.Scatter(\n",
    "    x = np.concatenate((x_df_s[v], x_df_s[v+1], x_df_s[v+2], x_df_s[v+3]), axis=0),\n",
    "    y = np.concatenate((y_df_s[v], y_df_s[v+1], y_df_s[v+2], y_df_s[v+3]), axis=0),\n",
    "    mode = 'markers',\n",
    "    name = 'markers'\n",
    ")\n",
    "data = [ trace1, trace2, trace3, trace4, trace0]\n",
    "\n",
    "##### Plot and embed in ipython notebook!\n",
    "py.iplot(data, filename='6')\n",
    "\n"
   ]
  },
  {
   "cell_type": "markdown",
   "metadata": {},
   "source": [
    "We can see a clear positive relationship between $x_{it}$ and $y_{it}$. This is partly due to the positve coefficient $\\beta$ which is here equal to two and partly because of the positive trend.\n",
    "\n",
    "#### _Pure_ (FD-FD):"
   ]
  },
  {
   "cell_type": "markdown",
   "metadata": {
    "collapsed": false
   },
   "source": [
    "##### Convert to code to see the plot\n",
    "d2x_df_s = pd.DataFrame(d2x.reshape(3,200))\n",
    "d2y_df_s = pd.DataFrame(d2y.reshape(3,200))\n",
    "#### Create traces\n",
    "\n",
    "trace1 = go.Scatter(\n",
    "    x = d2x_df_s[v].values,\n",
    "    y = d2y_df_s[v].values,\n",
    "    mode = 'lines+markers',\n",
    "    name = 'lines+markers'\n",
    ")\n",
    "trace2 = go.Scatter(\n",
    "    x = d2x_df_s[v+1].values,\n",
    "    y = d2y_df_s[v+1].values,\n",
    "    mode = 'lines+markers',\n",
    "    name = 'lines+markers'\n",
    ")\n",
    "trace3 = go.Scatter(\n",
    "    x = d2x_df_s[v+2].values,\n",
    "    y = d2y_df_s[v+2].values,\n",
    "    mode = 'lines+markers',\n",
    "    name = 'lines+markers'\n",
    ")\n",
    "trace4 = go.Scatter(\n",
    "    x = d2x_df_s[v+3].values,\n",
    "    y = d2y_df_s[v+3].values,\n",
    "    mode = 'lines+markers',\n",
    "    name = 'lines+markers'\n",
    ")\n",
    "trace0 = go.Scatter(\n",
    "    x = np.concatenate((d2x_df_s[v], d2x_df_s[v+1], d2x_df_s[v+2], d2x_df_s[v+3]), axis=0),\n",
    "    y = np.concatenate((d2y_df_s[v], d2y_df_s[v+1], d2y_df_s[v+2], d2y_df_s[v+3]), axis=0),\n",
    "    mode = 'markers',\n",
    "    name = 'markers'\n",
    ")\n",
    "data = [ trace1, trace2, trace3, trace4, trace0]\n",
    "\n",
    "##### Plot and embed in ipython notebook!\n",
    "py.iplot(data, filename='fig_8')"
   ]
  },
  {
   "cell_type": "markdown",
   "metadata": {},
   "source": [
    "We can see that the clear trend is gone and just from the picture it is not easily to see that there is a true prositive relationship. This might be the reason why the countor histogram was more curvly for the _pure_ random trend approach. \n",
    "\n",
    "#### _Mix_ (FD-FE):"
   ]
  },
  {
   "cell_type": "markdown",
   "metadata": {
    "collapsed": false
   },
   "source": [
    "##### Convert to code to see the plot\n",
    "dwx_s = dx.reshape(4,200) - dx_mean_i.reshape(4,200)\n",
    "dwy_s = dy.reshape(4,200) - dy_mean_i.reshape(4,200)\n",
    "\n",
    "dwx_df_s = pd.DataFrame(dwx_s.reshape(4,200))\n",
    "dwy_df_s = pd.DataFrame(dwy_s.reshape(4,200))\n",
    "##### Create traces\n",
    "\n",
    "trace1 = go.Scatter(\n",
    "    x = dwx_df_s[v].values,\n",
    "    y = dwy_df_s[v].values,\n",
    "    mode = 'lines+markers',\n",
    "    name = 'lines+markers'\n",
    ")\n",
    "trace2 = go.Scatter(\n",
    "    x = dwx_df_s[v+1].values,\n",
    "    y = dwy_df_s[v+1].values,\n",
    "    mode = 'lines+markers',\n",
    "    name = 'lines+markers'\n",
    ")\n",
    "trace3 = go.Scatter(\n",
    "    x = dwx_df_s[v+2].values,\n",
    "    y = dwy_df_s[v+2].values,\n",
    "    mode = 'lines+markers',\n",
    "    name = 'lines+markers'\n",
    ")\n",
    "trace4 = go.Scatter(\n",
    "    x = dwx_df_s[v+3].values,\n",
    "    y = dwy_df_s[v+3].values,\n",
    "    mode = 'lines+markers',\n",
    "    name = 'lines+markers'\n",
    ")\n",
    "trace0 = go.Scatter(\n",
    "    x = np.concatenate((dwx_df_s[v], dwx_df_s[v+1], dwx_df_s[v+2], dwx_df_s[v+3]), axis=0),\n",
    "    y = np.concatenate((dwy_df_s[v], dwy_df_s[v+1], dwy_df_s[v+2], dwy_df_s[v+3]), axis=0),\n",
    "    mode = 'markers',\n",
    "    name = 'markers'\n",
    ")\n",
    "data = [ trace1, trace2, trace3, trace4, trace0]\n",
    "\n",
    "##### Plot and embed in ipython notebook!\n",
    "py.iplot(data, filename='fig_9')"
   ]
  },
  {
   "cell_type": "markdown",
   "metadata": {},
   "source": [
    "Here the picture seems a bit more clear and truely different to the other approach. It does seem a bit odd from there that the results are so similar (later on), but we jsut look at four individuals here. This might also be the reason for the smaller difference in the results.\n",
    "\n",
    "<a id='MCPythonReg'></a> \n",
    "\n",
    "### 3.3.  Regression"
   ]
  },
  {
   "cell_type": "code",
   "execution_count": 44,
   "metadata": {
    "collapsed": false
   },
   "outputs": [
    {
     "name": "stdout",
     "output_type": "stream",
     "text": [
      "            FD   RT-pure    RT-mix\n",
      "Beta  3.000288  2.073892  2.058615\n"
     ]
    }
   ],
   "source": [
    "######### Regression\n",
    "# First-Difference\n",
    "x = np.mat(dx).T\n",
    "y = np.mat(dy).T\n",
    "est_fd = (x.T * x).I * x.T * y\n",
    "\n",
    "x2 = np.mat(d2x).T\n",
    "y2 = np.mat(d2y).T\n",
    "est_pure = (x2.T * x2).I * x2.T * y2\n",
    "\n",
    "xw = np.mat(dwx).T\n",
    "yw = np.mat(dwy).T\n",
    "est_mix = (xw.T * xw).I * xw.T * yw\n",
    "\n",
    "res = np.array((est_fd, est_pure, est_mix))\n",
    "res = np.mat(res)\n",
    "res_df = pd.DataFrame(res)\n",
    "res_df.columns = [\"FD\", \"RT-pure\", \"RT-mix\",]\n",
    "res_df.index = [\"Beta\"]\n",
    "print res_df\n",
    "\n",
    "########################## Possible OLS-regression packages we decided against. We kept in the code just in case we want to find it somewhen later on.\n",
    "#model = sm.OLS(dy, dx)\n",
    "#results = model.fit()\n",
    "#print(results.summary())\n",
    "#print('Parameters: ', results.params)\n",
    "\n",
    "#model = sm.OLS(d2y, d2x)\n",
    "#results = model.fit()\n",
    "#print(results.summary())\n",
    "#print('Parameters: ', results.params)"
   ]
  },
  {
   "cell_type": "markdown",
   "metadata": {
    "collapsed": false
   },
   "source": [
    "The results show for the first two entries a similar picture to what we had in in the Stata results as well. The FD is upwards biased due to the linear specific trend. The _pure_ estimation solves for the engogeneity problem and gives a coefficient very close to the true value. For the _mix_, where we first calculate the first-difference and then subtract the mean specific to each individual performs not as good as before. The coeffcient is equal to 1.9575542, so roughly biased by 0.04. Looking into the Stata help file of the [xtreg](http://www.stata.com/manuals13/xtxtreg.pdf) command shows us that in Stata does not just uses the within-transformation, but also adds the overall average:\n",
    "\n",
    "$$y_{it} - \\bar{y}_{i} + \\bar{\\bar{y}} = \\beta \\cdot (x_{it} - \\bar{x}_{i} + \\bar{\\bar{x}}) + \\alpha_i - \\alpha_i + \\bar{\\alpha} + e_{it} - \\bar{e}_{i} +\\bar{\\bar{e}} \\quad $$ \n",
    "\n",
    "with $\\bar{y}_{i} = \\sum_{t=1}^T y_{it}$, $\\bar{\\bar{y}} = \\sum_{i}\\sum_{t} x_{it} /(nT_i)$\n",
    "\n",
    "This however should just enable to calculate an intercept and have an impact on the standard errors. Another possibility would be that the seed was just not _in favor_ for the _mix_ method. This highly motivates to do a monte carlo study.\n",
    "\n",
    "As noted before, we will run now the regression with 1000 replications to see how the estimations behaves.\n",
    "\n",
    "<a id='MCPython'></a> \n",
    "### 3.4 Monte Carlo Study\n"
   ]
  },
  {
   "cell_type": "code",
   "execution_count": 45,
   "metadata": {
    "collapsed": false,
    "scrolled": true
   },
   "outputs": [
    {
     "name": "stdout",
     "output_type": "stream",
     "text": [
      "                 -5        -1       0.5         2\n",
      "FD_beta   -4.000156 -0.000140  1.499849  2.999851\n",
      "FD_se      0.000319  0.000312  0.000330  0.000311\n",
      "RT-1_beta -5.002912 -0.999465  0.500188  1.999700\n",
      "RT-1_se    0.053428  0.053331  0.049909  0.051587\n",
      "RT-2_beta -5.002488 -0.998969  0.500491  1.999536\n",
      "RT-2_se    0.044336  0.044384  0.041902  0.043140\n"
     ]
    }
   ],
   "source": [
    "r = 1000 # number of replications of the simulation\n",
    "\n",
    "#### empty matrices generated to store the results at the end of the loop\n",
    "# for first-difference\n",
    "estimate_fd = np.mat(np.empty((1, r))) \n",
    "estimate_mat_fd = np.mat(np.empty((4, r))) \n",
    "beta_fd_hat = np.zeros(4)\n",
    "se_fd_hat = np.zeros(4)\n",
    "\n",
    "# for random-trend (1) (pure)\n",
    "estimate_rt_p = np.mat(np.empty((1, r)))\n",
    "estimate_mat_p = np.mat(np.empty((4, r))) \n",
    "beta_rt_p_hat = np.zeros(4)\n",
    "se_rt_p_hat = np.zeros(4)\n",
    "\n",
    "# for random-trend (2) (mix)\n",
    "estimate_rt_m = np.mat(np.empty((1, r)))\n",
    "estimate_mat_m = np.mat(np.empty((4, r))) \n",
    "beta_rt_m_hat = np.zeros(4)\n",
    "se_rt_m_hat = np.zeros(4)\n",
    "####\n",
    "\n",
    "l = 0 # Used to move within a vector to store results at the end\n",
    "n = 200 # defines the number of individuals\n",
    "T = 5 # defines the number of time periods\n",
    "N = n * T # maximum number of observations, necessary for the calculations\n",
    "intercept = 3 # Even though the intercept cancels out, we leave it in the model because it was in the basic model\n",
    "for beta in (-5, -1, 0.5, 2): # Here we actually run the code vor reveral beta's, -5, -1, 0.5 and 2\n",
    "    # in stata it would be `forvalue beta in (-5, -1, 0.5, 2)`\n",
    "    for j in range(0, r): # Loop for the different amounts of replications of the simulation, done for each beta     \n",
    "        # DGP\n",
    "        random.seed(r) # Seed is defined in the loop to have a different seed per replication, but still knowing which seed's are used\n",
    "        alpha_i = np.random.normal(0, 1, n)\n",
    "        alpha_i = np.repeat(alpha_i,T) \n",
    "        i = np.arange(n)\n",
    "        i = np.repeat(i,T)\n",
    "        t = np.arange(T) + 1 \n",
    "        t = np.tile(t,n)\n",
    "        trend = t*i \n",
    "        mean = [0, 0]\n",
    "        cov = [[1, 0], [0, 1]]\n",
    "        nu_it, e_it = np.random.multivariate_normal(mean, cov, N).T \n",
    "        x_it = (nu_it + alpha_i + trend).T \n",
    "        y_it = (intercept + alpha_i + beta*x_it + trend + e_it).T # <=> `g y_it = 3 + alpha_i + 2*x_it + trend + e_it `\n",
    "        \n",
    "        ############################### Transformation for the first-difference and randon-trend (1) and (2)\n",
    "        \n",
    "        # First-difference and random-trend (1)\n",
    "        x_reshape = np.reshape(np.ravel(x_it), (n, T)).T \n",
    "        dx = np.zeros(x_reshape.shape)\n",
    "        dx[1:] = x_reshape[1:] - x_reshape[:-1] \n",
    "        dx = np.delete(dx,(0), axis=0) \n",
    "        dx_reshape = dx # result is stored for the within-transformation\n",
    "        d2x = np.zeros(dx.shape) \n",
    "        d2x[1:] = dx[1:] - dx[:-1] \n",
    "        d2x = np.delete(d2x,(0), axis=0)\n",
    "        \n",
    "        dX = np.reshape(dx.T, N-n) \n",
    "        d2X = np.reshape(d2x.T, N-2*n)\n",
    "\n",
    "        y_reshape = np.reshape(np.ravel(y_it), (n, T)).T \n",
    "        dy = np.zeros(y_reshape.shape)\n",
    "        dy[1:] = y_reshape[1:] - y_reshape[:-1] \n",
    "        dy = np.delete(dy,(0), axis=0)\n",
    "        dy_reshape = dy # result is stored for the within-transformation\n",
    "        d2y = np.zeros(dy.shape)\n",
    "        d2y[1:] = dy[1:] - dy[:-1] \n",
    "        d2y = np.delete(d2y,(0), axis=0)\n",
    "        dY = np.reshape(dy.T, N-n)\n",
    "        d2Y = np.reshape(d2y.T, N-2*n)\n",
    "        \n",
    "        # Within-transformation\n",
    "        dx_mean = dx_reshape.mean(axis=0) \n",
    "        dx_mean_i = np.repeat(dx_mean,T-1) \n",
    "        dx_mean_i_reshape = np.reshape(dx_mean_i.T, N-n) \n",
    "        dwX = dX - dx_mean_i_reshape\n",
    "        # dwX is now constructed for the Random-Trend 2, mix\n",
    "        # Same for the y-variable\n",
    "        dy_mean = dy_reshape.mean(axis=0) \n",
    "        dy_mean_i = np.repeat(dy_mean,T-1) \n",
    "        dy_mean_i_reshape = np.reshape(dy_mean_i.T, N-n) \n",
    "        dwY = dY - dy_mean_i_reshape \n",
    "        # dwY is now constructed for the Random-Trend 2, mix\n",
    "        \n",
    "        ################# First-Difference Regression\n",
    "        X = np.mat(dX).T\n",
    "        Y = np.mat(dY).T\n",
    "        M = (X.T * X).I * X.T\n",
    "        estimate_fd[:, j] = M * Y\n",
    "        estimate_mat_fd[l] = estimate_fd\n",
    "        \n",
    "        ################# Random-Trend (1), pure Regression\n",
    "        X2 = np.mat(d2X).T\n",
    "        Y2 = np.mat(d2Y).T\n",
    "        M2 = (X2.T * X2).I * X2.T\n",
    "        estimate_rt_p[:, j] = M2 * Y2\n",
    "        estimate_mat_p[l] = estimate_rt_p\n",
    "        \n",
    "        ################# Random-Trend (2), mix Regression\n",
    "        Xw = np.mat(dwX).T\n",
    "        Yw = np.mat(dwY).T\n",
    "        Mw = (Xw.T * Xw).I * Xw.T\n",
    "        estimate_rt_m[:, j] = Mw * Yw \n",
    "        estimate_mat_m[l] = estimate_rt_m\n",
    "        \n",
    "        \n",
    "        \n",
    "    mu_fd = estimate_fd.mean()\n",
    "    var_fd = estimate_fd.var()\n",
    "    sigma_fd = np.sqrt(var_fd)\n",
    "    beta_fd_hat[l] = mu_fd\n",
    "    se_fd_hat[l] = sigma_fd\n",
    "    \n",
    "    mu_rt_p = estimate_rt_p.mean()\n",
    "    var_rt_p = estimate_rt_p.var()\n",
    "    sigma_rt_p = np.sqrt(var_rt_p)\n",
    "    beta_rt_p_hat[l] = mu_rt_p\n",
    "    se_rt_p_hat[l] = sigma_rt_p\n",
    "    \n",
    "    mu_rt_m = estimate_rt_m.mean()\n",
    "    var_rt_m = estimate_rt_m.var()\n",
    "    sigma_rt_m = np.sqrt(var_rt_m)\n",
    "    beta_rt_m_hat[l] = mu_rt_m\n",
    "    se_rt_m_hat[l] = sigma_rt_m\n",
    "    \n",
    "    l = l + 1\n",
    "    \n",
    "\n",
    "#estimate_fd = np.squeeze(np.asarray(estimate_fd))\n",
    "\n",
    "\n",
    "#estimate_rt_p = np.squeeze(np.asarray(estimate_rt_p))\n",
    "\n",
    "\n",
    "#estimate_rt_m = np.squeeze(np.asarray(estimate_rt_m))\n",
    "\n",
    "\n",
    "results = np.matrix((beta_fd_hat, se_fd_hat, beta_rt_p_hat, se_rt_p_hat, beta_rt_m_hat, se_rt_m_hat))\n",
    "results_df = pd.DataFrame(results)\n",
    "results_df.index = [\"FD_beta\", \"FD_se\", \"RT-1_beta\", \"RT-1_se\", \"RT-2_beta\", \"RT-2_se\"]\n",
    "results_df.columns = [\"-5\", \"-1\", \"0.5\", \"2\"]\n",
    "print results_df"
   ]
  },
  {
   "cell_type": "markdown",
   "metadata": {},
   "source": [
    "In the output table `results` one can see the results of the estimated coefficient $\\beta$ for the first-difference and random-trend _pure_ (1) and _mix_ (2). Further, we included the the standard deviation of the distribution the estimated coefficients have from the various replication (so, this is not a mean from each standard error, but just the one standard error from the coefficients). The numbers of each columns show the true value of the coefficient.\n",
    "\n",
    "We see that the now the RT-_mix_ is not much different from the _pure_ estimation as before and that both are unbiased. Differences are only slightly. The FD is biased though. Looking at the standard errors, using the second data transformation increases the spread of the estimation in the replications. Within the method they are quite constant, but both RT have much higher standard errors than the FD.\n",
    "\n",
    "For a better overview of the results, the next cells will do some comparisons. First we calculate the differences of the estimated $\\hat{\\beta}$ (given by beta_fd_hat for the first-difference) and the true $\\beta$ (given by beta).\n",
    "\n",
    "#### 3.4.1 Comparison of the Monte Carlo Results"
   ]
  },
  {
   "cell_type": "code",
   "execution_count": 46,
   "metadata": {
    "collapsed": false
   },
   "outputs": [],
   "source": [
    "beta = np.array((-5, -1, 0.5, 2))\n",
    "diff_fd = beta_fd_hat - beta\n",
    "diff_fd_r = np.round(np.absolute(diff_fd),0)\n",
    "\n",
    "diff_rt_p = beta_rt_p_hat - beta\n",
    "diff_rt_p_r = np.round(np.absolute(diff_rt_p),0)\n",
    "\n",
    "diff_rt_m = beta_rt_m_hat - beta\n",
    "diff_rt_m_r = np.round(np.absolute(diff_rt_m),0)\n",
    "\n",
    "diff_se_rt = se_rt_p_hat - se_rt_m_hat        \n",
    "        "
   ]
  },
  {
   "cell_type": "markdown",
   "metadata": {},
   "source": [
    "To see whether the differences from the true coefficient is large, we compare the estimate to the value $0.01$ and let python tell us whether the difference is bigger or smaller than the chosen value.:"
   ]
  },
  {
   "cell_type": "code",
   "execution_count": 47,
   "metadata": {
    "collapsed": false
   },
   "outputs": [
    {
     "name": "stdout",
     "output_type": "stream",
     "text": [
      "\n",
      "Test if the difference between estimator of the first-difference and the true value is significant unequal to zero\n",
      "Reject\n",
      "Reject\n",
      "Reject\n",
      "Reject\n",
      "\n",
      "Test if the difference between estimator of the random-trend (1) and the true value is significant unequal to zero\n",
      "Don't reject\n",
      "Don't reject\n",
      "Don't reject\n",
      "Don't reject\n",
      "\n",
      "Test if the difference between estimator of the random-trend (2) and the true value is significant unequal to zero\n",
      "Don't reject\n",
      "Don't reject\n",
      "Don't reject\n",
      "Don't reject\n"
     ]
    }
   ],
   "source": [
    "print \"\"\n",
    "print \"Test if the difference between estimator of the first-difference and the true value is significant unequal to zero\" \n",
    "for l in range(0,4):\n",
    "    if diff_fd[l] / se_fd_hat[l] > 1.96:\n",
    "        print \"Reject\"\n",
    "    else:\n",
    "        print \"Don't reject\"  \n",
    "print \"\"\n",
    "print \"Test if the difference between estimator of the random-trend (1) and the true value is significant unequal to zero\"         \n",
    "for l in range(0,4):\n",
    "    if diff_rt_m[l] / se_rt_m_hat[l] > 1.96:\n",
    "        print \"Reject\"\n",
    "    else:\n",
    "        print \"Don't reject\" \n",
    "\n",
    "print \"\"\n",
    "print \"Test if the difference between estimator of the random-trend (2) and the true value is significant unequal to zero\"                 \n",
    "for l in range(0,4):\n",
    "    if diff_rt_m[l] / se_rt_m_hat[l] > 1.96:\n",
    "        print \"Reject\"\n",
    "    else:\n",
    "        print \"Don't reject\"         \n",
    "        \n"
   ]
  },
  {
   "cell_type": "markdown",
   "metadata": {},
   "source": [
    "For the test we used the 95\\%-quantile. We conclude that both, the _pure_ and the _mix_ random-trend give consistent estimates. The first-difference (as expected) gives us inconsistent results. Thereby we conferm the results we obtained from stata above. It seems that the code conducted by us works. Works in the sense that the transformations are done correctly.\n",
    "\n",
    "To see however whether _pure_ or _mix_ is better, we will see which difference of the coefficient is smaller and which standard-errors are smaller"
   ]
  },
  {
   "cell_type": "code",
   "execution_count": 48,
   "metadata": {
    "collapsed": false
   },
   "outputs": [
    {
     "name": "stdout",
     "output_type": "stream",
     "text": [
      "Which method produces a smaller differences with the true value?\n",
      "Pure\n",
      "Pure\n",
      "Pure\n",
      "Mix\n",
      "\n",
      "Which method produces smaller standard errors?\n",
      "Mix\n",
      "Mix\n",
      "Mix\n",
      "Mix\n",
      "\n",
      "Difference of the standard errors:\n",
      "[ 0.00909224  0.00894698  0.00800773  0.0084471 ]\n"
     ]
    }
   ],
   "source": [
    "print \"Which method produces a smaller differences with the true value?\"\n",
    "for l in range(0,4):\n",
    "    if diff_rt_p[l] < diff_rt_m[l]:\n",
    "        print \"Pure\"\n",
    "    else:\n",
    "        print \"Mix\" \n",
    "\n",
    "print \"\"        \n",
    "print \"Which method produces smaller standard errors?\"        \n",
    "for l in range(0,4):\n",
    "    if se_rt_p_hat[l] < se_rt_m_hat[l]:\n",
    "        print \"Pure\"\n",
    "    else:\n",
    "        print \"Mix\" \n",
    "        \n",
    "print \"\"\n",
    "print \"Difference of the standard errors:\"\n",
    "print diff_se_rt"
   ]
  },
  {
   "cell_type": "markdown",
   "metadata": {},
   "source": [
    "For our simulation, it does not seem that for the mean of the coefficient it makes a different whether ones uses the first or the second random-trend approach. Here, one time the _mix_-approach has a smaller difference and three times the _pure_-approach has a smaller difference. The differences overall are very small, so small that in empirical papers it should not matter.\n",
    "\n",
    "For the standard error however, always the _mix_-approach is preferred. This means that the for the 1000 replications, the _mix_-approach is more accurate than the _pure_-approach. The difference of the standard errors is at the second decimal digit which, from our point of view, does not seem to be small enough to neglect it.\n",
    "\n",
    "We therefore conclude that it might be reasonable to suggest to use the second random-trend approach, in which one calculates first the first-difference to cancel out the constant and transform the linear trend into a constant and then takes use of the within-transformation to cancel out the remaining constant.\n",
    "\n",
    "At the very last we also have a graphical view on our estimation.\n",
    "<a id='graphs'></a> \n",
    "\n",
    "### 3.5 Graphical Comparison of the Estimation Methods"
   ]
  },
  {
   "cell_type": "markdown",
   "metadata": {
    "collapsed": false
   },
   "source": [
    "##### Convert to code to see the plot\n",
    "\n",
    "########## Restoring the data to panda data frames for the plot\n",
    "#fd\n",
    "estimate_fd_df = pd.DataFrame(estimate_mat_fd).T\n",
    "\n",
    "#mix\n",
    "estimate_m_df = pd.DataFrame(estimate_mat_m).T\n",
    "\n",
    "#pure\n",
    "estimate_p_df = pd.DataFrame(estimate_mat_p).T\n",
    "\n",
    "########## Generating plots using plotly\n",
    "\n",
    "cf.set_config_file(offline=False, world_readable=True, theme='pearl')\n",
    "\n",
    "df = pd.DataFrame({'FD': estimate_fd_df[0],\n",
    "                   'FD-FE': estimate_m_df[0],\n",
    "                   'FD-FD': estimate_p_df[0]})\n",
    "#df.head(2)\n",
    "\n",
    "df.iplot(kind='histogram', subplots=True, shape=(1, 3),\n",
    "         title = \"Histogram for estimates with true beta = (-5)\",\n",
    "         bins = 30,\n",
    "         subplot_titles=('FD Estimation', 'FD-FE Estimation','FD-FD Estimation'),\n",
    "         filename='cufflinks/fig_1')\n",
    "\n",
    "##### See https://plot.ly/ipython-notebooks/cufflinks/ for further options"
   ]
  },
  {
   "cell_type": "markdown",
   "metadata": {},
   "source": [
    "The histogram shows that for all three methods the distribution looks similar to a normal distribution which was to be expected. The estimation therefore behaves nicely and gives confident that there is no major errors in the DGP nor the the by-hand regressions.\n",
    "\n",
    "For a better comparison we plot the _mix_ (yellow) and _pure_ (blue) estimation within one plot to show differences. Since the FD estimation is biased and would only make the graphical comparison more difficult, we don't include it furthermore.\n",
    "\n",
    "#### Overlay histogram with true $\\beta$ equal to (-5)"
   ]
  },
  {
   "cell_type": "markdown",
   "metadata": {
    "collapsed": false
   },
   "source": [
    "##### Convert to code to see the plot\n",
    "\n",
    "###### True beta = -5\n",
    "\n",
    "cf.set_config_file(offline=False, world_readable=True, theme='pearl')\n",
    "\n",
    "df = pd.DataFrame({'FD-FE': estimate_m_df[0],\n",
    "                   'FD-FD': estimate_p_df[0]})\n",
    "#df.head(2)\n",
    "\n",
    "df.iplot(kind='histogram',barmode='overlay', \n",
    "         histnorm='percent', \n",
    "         title = \"Overlay-Histogram for RT mix and pure, true beta = (-5)\",\n",
    "         filename='cufflinks/fig_2')"
   ]
  },
  {
   "cell_type": "markdown",
   "metadata": {},
   "source": [
    "#### Overlay histogram with true $\\beta$ equal to (-1)"
   ]
  },
  {
   "cell_type": "markdown",
   "metadata": {
    "collapsed": false
   },
   "source": [
    "##### Convert to code to see the plot\n",
    "\n",
    "###### True beta = -1\n",
    "\n",
    "cf.set_config_file(offline=False, world_readable=True, theme='pearl')\n",
    "\n",
    "df = pd.DataFrame({'FD-FE': estimate_m_df[1],\n",
    "                   'FD-FD': estimate_p_df[1]})\n",
    "#df.head(2)\n",
    "\n",
    "df.iplot(kind='histogram',barmode='overlay', \n",
    "         histnorm='percent', \n",
    "         title = \"Overlay-Histogram for RT mix and pure, true beta = (-1)\",\n",
    "         filename='cufflinks/fig_3')"
   ]
  },
  {
   "cell_type": "markdown",
   "metadata": {},
   "source": [
    "#### Overlay histogram with true $\\beta$ equal to (0.5)"
   ]
  },
  {
   "cell_type": "markdown",
   "metadata": {
    "collapsed": false
   },
   "source": [
    "##### Convert to code to see the plot\n",
    "\n",
    "###### True beta = 0.5\n",
    "\n",
    "cf.set_config_file(offline=False, world_readable=True, theme='pearl')\n",
    "\n",
    "df = pd.DataFrame({'FD-FE': estimate_m_df[2],\n",
    "                   'FD-FD': estimate_p_df[2]})\n",
    "#df.head(2)\n",
    "\n",
    "df.iplot(kind='histogram',barmode='overlay', \n",
    "         histnorm='percent', \n",
    "         title = \"Overlay-Histogram for RT mix and pure, true beta = 0.5\",\n",
    "         filename='cufflinks/fig_4')"
   ]
  },
  {
   "cell_type": "markdown",
   "metadata": {},
   "source": [
    "#### Overlay histogram with true $\\beta$ equal to 2"
   ]
  },
  {
   "cell_type": "markdown",
   "metadata": {
    "collapsed": false
   },
   "source": [
    "##### Convert to code to see the plot\n",
    "\n",
    "###### True beta = 2\n",
    "\n",
    "cf.set_config_file(offline=False, world_readable=True, theme='pearl')\n",
    "\n",
    "df = pd.DataFrame({'FD-FE': estimate_m_df[3],\n",
    "                   'FD-FD': estimate_p_df[3]})\n",
    "#df.head(2)\n",
    "\n",
    "df.iplot(kind='histogram',barmode='overlay', \n",
    "         histnorm='percent', \n",
    "         title = \"Overlay-Histogram for RT mix and pure, true beta = 2\",\n",
    "         filename='cufflinks/fig_5')"
   ]
  },
  {
   "cell_type": "markdown",
   "metadata": {},
   "source": [
    "One can see that for all fours graphs the _mix_ estimation results have a higher kurtosis and (consequently) less fatter tails than the _pure_ estimation results (neglecting the two outliers to the right for _mix_).\n",
    "\n",
    "This strengthens our conclusions from the comparison of the means and standard errors. The _mix_ method seem to perform better in the sense that it is more narrowed to the true value. "
   ]
  },
  {
   "cell_type": "markdown",
   "metadata": {
    "collapsed": true
   },
   "source": [
    "<a id='Conclusion'></a> "
   ]
  },
  {
   "cell_type": "markdown",
   "metadata": {
    "collapsed": false
   },
   "source": [
    "# 4. Conclusion\n",
    "\n",
    "In this study we have looked at some foundational [panel data](#EQ1) models. Using both, commercial and open software packages we performed numerical simulation based on a predefined [data generating process](#DGP). Our interest was first of all to find an unbiased estimator after a linear random-trend has already introduced some bias in the classical panel estimation methods. We evaluated the consistency and effectiveness of several alternative approaches in estimating a model which contains a [random-trend](#RT) component. We compared two competing theoretical approaches for getting rid of the trend: (i) [first-differencing the data twice](#EQ4) (ii) [within transformation after first differencing once](#EQ5). \n",
    "\n",
    "\n",
    "We have evaluated the [robustness](#ConclusionModels) of the two approaches. Also, we have compared the [effectiveness](#ConclusionStataPython) of _stata_ vs python based open source libraries including _numpy_ and _pandas_.   \n",
    "\n",
    "<a id='ConclusionModels'></a> \n",
    "## 4.1. Comparison between models\n",
    "\n",
    "We have found that a random-trend model solves the endogeneity problem imposed by the linear trend. The RT estimation is superior to the FD and FE estimations because they can only solve for an endogeneity problem induced by a constant. However, we saw that the first-difference works if the trend is [the same for all individuals](#MCNoTrend) or [the marginal increase decreases (log)](#MCNLogTrend). Further, the random-trend is equally biased compared to the first-difference if the trend increases [exponentially](#MCNonLinTrend) over time. More research has to be done here to for a more precise view.\n",
    "\n",
    "The comparison of the different RT methods suggests that the _mix_-approach (FD-FE) is superior as long as the calculation time is not much of a burden. Giving the bad results for nonlinear trends, it is questionable if the RT estimation model overall can be used in empirical work if have reason to believe that the trend can be exponential for example. As a result, more research has to be done for the estimation of non-linear trends.\n",
    "\n",
    "<a id='ConclusionStataPython'></a> \n",
    "## 4.2. Comparison between Stata and Python\n",
    "\n",
    "We found several advantages of _Stata_ over open source python libraries\n",
    "   - Stata is an easier set up because of the richness of implemented commands designed for econometric work. As a result it is faster to code when one wants to run a simple or complex regression.\n",
    "   - It offers a huge amount of online example and is well documented.\n",
    "    \n",
    "Some disadvantages of using Stata (in notebook) can be listed as well\n",
    "   - Does not save background estimation results (saved in vectors or matrices originally in Stata)\n",
    "   - It does not go hand in hand to synchronize estimation output with other python packages (i.e. creating plots in _plotly_)\n",
    "   - Seems to be slower than within Stata\n",
    "   - Not all commands work\n",
    "    \n",
    "Still if one is more comfortable with Stata, or has old code that can be reused, the _ipystata_ add-in could be a convenient addition to the econometrician's toolbox. In those cases, as we found out one transition smoothly and translate gradually more and more code from Stata to Python and thus get the best out of both.\n",
    "\n",
    "Python Pros:\n",
    "- There is wide debate about the advantages of python for scientific research. Instead of naming them here as well, we recommend this [blog post](http://cyrille.rossant.net/why-using-python-for-scientific-computing/). \n",
    "    \n",
    "Python Cons\n",
    "- There is a steep learning curve and one needs to be able to code really well to utilize its full potential. We did not find any library that was especially developed for complex econometric work (e.g. panel data). Of course, we are hoping that it is only a matter of time that this gets sorted out. \n",
    "    \n",
    "We failed to find a packages to safe the time python needs to run. For Stata clearly the FD is much faster than the FE estimation, and thereby _pure_ faster than _mix_. A comparison is also difficult because while coding using Python it was convenient to run all three transformations (FD, FD-FE, FD-FD) within one cell. Just from our feeling, the code does run very fast for all and might be even faster than the FE-Estimation in Stata. However, we do the estimation ourselves and calculate only the coefficients we need at hand. Stata on the contrary estimates usually much more just the coefficient which of course costs more time as well."
   ]
  },
  {
   "cell_type": "markdown",
   "metadata": {
    "collapsed": false
   },
   "source": [
    "Last step of our journey is to convert this python workbook into HTML. This can be done easily by executing the following command into the _command prompt_\n",
    "\n",
    "```jupyter nbconvert Third_Assignment.ipynb --to html --template full```"
   ]
  },
  {
   "cell_type": "code",
   "execution_count": null,
   "metadata": {
    "collapsed": false
   },
   "outputs": [],
   "source": []
  },
  {
   "cell_type": "code",
   "execution_count": null,
   "metadata": {
    "collapsed": false
   },
   "outputs": [],
   "source": []
  },
  {
   "cell_type": "code",
   "execution_count": null,
   "metadata": {
    "collapsed": true
   },
   "outputs": [],
   "source": []
  }
 ],
 "metadata": {
  "kernelspec": {
   "display_name": "Python 2",
   "language": "python",
   "name": "python2"
  },
  "language_info": {
   "codemirror_mode": {
    "name": "ipython",
    "version": 2
   },
   "file_extension": ".py",
   "mimetype": "text/x-python",
   "name": "python",
   "nbconvert_exporter": "python",
   "pygments_lexer": "ipython2",
   "version": "2.7.11"
  }
 },
 "nbformat": 4,
 "nbformat_minor": 0
}
